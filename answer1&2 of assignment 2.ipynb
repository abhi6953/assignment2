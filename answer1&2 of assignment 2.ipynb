{
 "cells": [
  {
   "cell_type": "code",
   "execution_count": 1,
   "metadata": {},
   "outputs": [
    {
     "name": "stdout",
     "output_type": "stream",
     "text": [
      "Requirement already satisfied: selenium in c:\\programdata\\anaconda3\\lib\\site-packages (3.141.0)\n",
      "Requirement already satisfied: urllib3 in c:\\programdata\\anaconda3\\lib\\site-packages (from selenium) (1.25.9)\n"
     ]
    }
   ],
   "source": [
    "!pip install selenium"
   ]
  },
  {
   "cell_type": "code",
   "execution_count": 2,
   "metadata": {},
   "outputs": [],
   "source": [
    "import selenium\n",
    "from selenium import webdriver\n",
    "import pandas as pd"
   ]
  },
  {
   "cell_type": "code",
   "execution_count": 3,
   "metadata": {},
   "outputs": [],
   "source": [
    "driver = webdriver.Chrome(executable_path='C:/chromedriver/chromedriver.exe')"
   ]
  },
  {
   "cell_type": "code",
   "execution_count": 4,
   "metadata": {},
   "outputs": [],
   "source": [
    "driver.close()"
   ]
  },
  {
   "cell_type": "code",
   "execution_count": 5,
   "metadata": {},
   "outputs": [],
   "source": [
    "driver = webdriver.Chrome(executable_path='C:/chromedriver/chromedriver.exe')"
   ]
  },
  {
   "cell_type": "code",
   "execution_count": 6,
   "metadata": {},
   "outputs": [],
   "source": [
    "driver.get('https://www.naukri.com/ ')"
   ]
  },
  {
   "cell_type": "code",
   "execution_count": 7,
   "metadata": {},
   "outputs": [],
   "source": [
    "job_search=driver.find_element_by_id('qsb-keyword-sugg')\n",
    "job_search.send_keys('Data Analyst')\n",
    "job_loc=driver.find_element_by_xpath(\"//input[@id='qsb-location-sugg']\")\n",
    "job_loc.send_keys('Bangalore')\n",
    "search_btn=driver.find_element_by_xpath(\"//div[@class='search-btn']/button\")\n",
    "search_btn.click()"
   ]
  },
  {
   "cell_type": "code",
   "execution_count": 8,
   "metadata": {},
   "outputs": [],
   "source": [
    "url=\"https://www.naukri.com/data-analyst-jobs-in-bangalore?k=data%20analyst&l=bangalore\""
   ]
  },
  {
   "cell_type": "code",
   "execution_count": 9,
   "metadata": {},
   "outputs": [],
   "source": [
    "driver.get(url)"
   ]
  },
  {
   "cell_type": "code",
   "execution_count": 10,
   "metadata": {},
   "outputs": [],
   "source": [
    "job_title=[]\n",
    "company_name=[]\n",
    "job_location=[]\n",
    "experience_list=[]"
   ]
  },
  {
   "cell_type": "code",
   "execution_count": 12,
   "metadata": {},
   "outputs": [
    {
     "data": {
      "text/plain": [
       "[<selenium.webdriver.remote.webelement.WebElement (session=\"23fe599097a463d473fea39edd340b29\", element=\"f95f3b85-8ebc-48d1-98a5-e311cc768715\")>,\n",
       " <selenium.webdriver.remote.webelement.WebElement (session=\"23fe599097a463d473fea39edd340b29\", element=\"fbcff4b1-8850-4d8e-8a02-869d185895a8\")>,\n",
       " <selenium.webdriver.remote.webelement.WebElement (session=\"23fe599097a463d473fea39edd340b29\", element=\"f52a5802-bdd3-4bd5-bb9d-0b7a1203ed88\")>,\n",
       " <selenium.webdriver.remote.webelement.WebElement (session=\"23fe599097a463d473fea39edd340b29\", element=\"b65de08a-000b-416d-b816-534f95f79fe7\")>,\n",
       " <selenium.webdriver.remote.webelement.WebElement (session=\"23fe599097a463d473fea39edd340b29\", element=\"2e0b4aca-bb5d-4c96-b4f5-809e47a5a380\")>,\n",
       " <selenium.webdriver.remote.webelement.WebElement (session=\"23fe599097a463d473fea39edd340b29\", element=\"672e9ed8-39e9-46d8-a77c-49d6d341e904\")>,\n",
       " <selenium.webdriver.remote.webelement.WebElement (session=\"23fe599097a463d473fea39edd340b29\", element=\"519475a0-86b8-4764-9700-28fe901e1804\")>,\n",
       " <selenium.webdriver.remote.webelement.WebElement (session=\"23fe599097a463d473fea39edd340b29\", element=\"7e19a34e-65cd-4d46-ae15-c4d490c793e8\")>,\n",
       " <selenium.webdriver.remote.webelement.WebElement (session=\"23fe599097a463d473fea39edd340b29\", element=\"a4db044c-30d2-4509-be8c-819f1c0862d7\")>,\n",
       " <selenium.webdriver.remote.webelement.WebElement (session=\"23fe599097a463d473fea39edd340b29\", element=\"c58e96a2-60b8-4688-9be8-9524e4d8dc82\")>]"
      ]
     },
     "execution_count": 12,
     "metadata": {},
     "output_type": "execute_result"
    }
   ],
   "source": [
    "t_tags=driver.find_elements_by_xpath(\"//a[@class='title fw500 ellipsis']\")\n",
    "t_tags[0:10]"
   ]
  },
  {
   "cell_type": "code",
   "execution_count": 13,
   "metadata": {},
   "outputs": [
    {
     "name": "stdout",
     "output_type": "stream",
     "text": [
      "['MIS/ Data Analyst-(SQL,Automation,Excel/PowerBI,Dashboards) - Contract', 'Data Analyst - SAP', 'Hiring Data Analysts on Contract', 'Senior Data Analyst', 'Security Data Analyst', 'Data Analyst -Azure Data lake, Azure Data factory', 'Business / Data Analyst', 'Data Analyst - O2C - Bangalore', 'Intern Data Analyst', 'NiFi Data Analyst']\n"
     ]
    }
   ],
   "source": [
    "for i in t_tags:\n",
    "    title=i.text\n",
    "    job_title.append(title)\n",
    "print(job_title[0:10])"
   ]
  },
  {
   "cell_type": "code",
   "execution_count": 14,
   "metadata": {},
   "outputs": [],
   "source": [
    "c_tags=driver.find_elements_by_xpath(\"//a[@class='subTitle ellipsis fleft']\")"
   ]
  },
  {
   "cell_type": "code",
   "execution_count": 15,
   "metadata": {},
   "outputs": [
    {
     "name": "stdout",
     "output_type": "stream",
     "text": [
      "['Flipkart Internet Private Limited', 'Boston Scientific Corporation', 'Flipkart Internet Private Limited', 'Schneider Electric', 'Philips India Limited', 'Mindtree Limited', 'IBM India Pvt. Limited', 'RANDSTAD INDIA PVT LTD', 'Outsource Big Data', 'Capgemini Technology Services India Limited']\n"
     ]
    }
   ],
   "source": [
    "for i in c_tags:\n",
    "    c_name=i.text\n",
    "    company_name.append(c_name)\n",
    "print(company_name[0:10])"
   ]
  },
  {
   "cell_type": "code",
   "execution_count": 16,
   "metadata": {},
   "outputs": [
    {
     "data": {
      "text/plain": [
       "[<selenium.webdriver.remote.webelement.WebElement (session=\"23fe599097a463d473fea39edd340b29\", element=\"050c39dc-e9fd-4823-88dc-c75e7d3c28cd\")>,\n",
       " <selenium.webdriver.remote.webelement.WebElement (session=\"23fe599097a463d473fea39edd340b29\", element=\"014238bf-29d8-4db4-b6b3-813e4c6fa3a4\")>,\n",
       " <selenium.webdriver.remote.webelement.WebElement (session=\"23fe599097a463d473fea39edd340b29\", element=\"43041ef0-6aa4-41f3-8874-e60fcb9db50c\")>,\n",
       " <selenium.webdriver.remote.webelement.WebElement (session=\"23fe599097a463d473fea39edd340b29\", element=\"1dd4c26c-3ad4-417b-b269-bcbc7dcb75ed\")>,\n",
       " <selenium.webdriver.remote.webelement.WebElement (session=\"23fe599097a463d473fea39edd340b29\", element=\"5faa6f1c-5951-4c60-b752-aa82a78c9d1e\")>,\n",
       " <selenium.webdriver.remote.webelement.WebElement (session=\"23fe599097a463d473fea39edd340b29\", element=\"1c3d8d99-1ef8-4cff-9523-d0bf6a0bc36c\")>,\n",
       " <selenium.webdriver.remote.webelement.WebElement (session=\"23fe599097a463d473fea39edd340b29\", element=\"a02a9ee9-5ab4-47b8-9e0d-b72d11567411\")>,\n",
       " <selenium.webdriver.remote.webelement.WebElement (session=\"23fe599097a463d473fea39edd340b29\", element=\"de65aecd-9243-43a9-a613-f2e0ecc724fb\")>,\n",
       " <selenium.webdriver.remote.webelement.WebElement (session=\"23fe599097a463d473fea39edd340b29\", element=\"d8daef6f-7d5e-4604-aa48-35ec349e2c81\")>,\n",
       " <selenium.webdriver.remote.webelement.WebElement (session=\"23fe599097a463d473fea39edd340b29\", element=\"f2a17358-0dbf-4c63-abe1-ea9b07271dd9\")>]"
      ]
     },
     "execution_count": 16,
     "metadata": {},
     "output_type": "execute_result"
    }
   ],
   "source": [
    "l_tags=driver.find_elements_by_xpath(\"//li[@class='fleft grey-text br2 placeHolderLi location']/span[1]\")\n",
    "l_tags[0:10]"
   ]
  },
  {
   "cell_type": "code",
   "execution_count": 17,
   "metadata": {},
   "outputs": [
    {
     "name": "stdout",
     "output_type": "stream",
     "text": [
      "['Bengaluru', 'Pune, Delhi, Bengaluru, Gurgaon', 'Bengaluru', 'Bengaluru / Bangalore', 'Bengaluru', 'Chennai, Pune, Bengaluru, Hyderabad', 'Bengaluru', 'Bengaluru', 'Bengaluru', 'Bengaluru']\n"
     ]
    }
   ],
   "source": [
    "for i in l_tags:\n",
    "    location=i.text\n",
    "    job_location.append(location)\n",
    "print(job_location[0:10])"
   ]
  },
  {
   "cell_type": "code",
   "execution_count": 18,
   "metadata": {},
   "outputs": [
    {
     "data": {
      "text/plain": [
       "[<selenium.webdriver.remote.webelement.WebElement (session=\"23fe599097a463d473fea39edd340b29\", element=\"750c9bb3-11e6-4370-8a79-6d4f8ab69cdf\")>,\n",
       " <selenium.webdriver.remote.webelement.WebElement (session=\"23fe599097a463d473fea39edd340b29\", element=\"9bb1a429-48c9-49ab-9c34-0781f1b67ff7\")>,\n",
       " <selenium.webdriver.remote.webelement.WebElement (session=\"23fe599097a463d473fea39edd340b29\", element=\"3b1f3d99-8b29-44ed-993d-28050fb904fe\")>,\n",
       " <selenium.webdriver.remote.webelement.WebElement (session=\"23fe599097a463d473fea39edd340b29\", element=\"96308184-9588-48bd-b64e-9f0f805bf22c\")>,\n",
       " <selenium.webdriver.remote.webelement.WebElement (session=\"23fe599097a463d473fea39edd340b29\", element=\"5af4b4ce-1850-4d04-be68-52f215b0dd00\")>,\n",
       " <selenium.webdriver.remote.webelement.WebElement (session=\"23fe599097a463d473fea39edd340b29\", element=\"a2f09886-b2ef-4f54-9c44-edddba1e178f\")>,\n",
       " <selenium.webdriver.remote.webelement.WebElement (session=\"23fe599097a463d473fea39edd340b29\", element=\"cc689ac9-6024-4fda-882b-56d294928c20\")>,\n",
       " <selenium.webdriver.remote.webelement.WebElement (session=\"23fe599097a463d473fea39edd340b29\", element=\"2a689426-08df-4ca0-9624-bd1240aca189\")>,\n",
       " <selenium.webdriver.remote.webelement.WebElement (session=\"23fe599097a463d473fea39edd340b29\", element=\"965c57b1-fe17-430a-953a-b57ca19731b2\")>,\n",
       " <selenium.webdriver.remote.webelement.WebElement (session=\"23fe599097a463d473fea39edd340b29\", element=\"48b1117e-299b-4b5d-aaed-aa6315e82d55\")>]"
      ]
     },
     "execution_count": 18,
     "metadata": {},
     "output_type": "execute_result"
    }
   ],
   "source": [
    "ex_tags=driver.find_elements_by_xpath(\"//li[@class='fleft grey-text br2 placeHolderLi experience']/span[1]\")\n",
    "ex_tags[0:10]"
   ]
  },
  {
   "cell_type": "code",
   "execution_count": 19,
   "metadata": {},
   "outputs": [
    {
     "name": "stdout",
     "output_type": "stream",
     "text": [
      "['1-4 Yrs', '3-5 Yrs', '2-5 Yrs', '2-5 Yrs', '2-4 Yrs', '5-9 Yrs', '2-4 Yrs', '2-4 Yrs', '0-1 Yrs', '4-6 Yrs']\n"
     ]
    }
   ],
   "source": [
    "for i in ex_tags:\n",
    "    ex_list=i.text\n",
    "    experience_list.append(ex_list)\n",
    "print(experience_list[0:10])"
   ]
  },
  {
   "cell_type": "code",
   "execution_count": 20,
   "metadata": {},
   "outputs": [
    {
     "data": {
      "text/html": [
       "<div>\n",
       "<style scoped>\n",
       "    .dataframe tbody tr th:only-of-type {\n",
       "        vertical-align: middle;\n",
       "    }\n",
       "\n",
       "    .dataframe tbody tr th {\n",
       "        vertical-align: top;\n",
       "    }\n",
       "\n",
       "    .dataframe thead th {\n",
       "        text-align: right;\n",
       "    }\n",
       "</style>\n",
       "<table border=\"1\" class=\"dataframe\">\n",
       "  <thead>\n",
       "    <tr style=\"text-align: right;\">\n",
       "      <th></th>\n",
       "      <th>job_profile</th>\n",
       "      <th>experience_required</th>\n",
       "      <th>job_location</th>\n",
       "      <th>company_name</th>\n",
       "    </tr>\n",
       "  </thead>\n",
       "  <tbody>\n",
       "    <tr>\n",
       "      <th>0</th>\n",
       "      <td>MIS/ Data Analyst-(SQL,Automation,Excel/PowerB...</td>\n",
       "      <td>1-4 Yrs</td>\n",
       "      <td>Bengaluru</td>\n",
       "      <td>Flipkart Internet Private Limited</td>\n",
       "    </tr>\n",
       "    <tr>\n",
       "      <th>1</th>\n",
       "      <td>Data Analyst - SAP</td>\n",
       "      <td>3-5 Yrs</td>\n",
       "      <td>Pune, Delhi, Bengaluru, Gurgaon</td>\n",
       "      <td>Boston Scientific Corporation</td>\n",
       "    </tr>\n",
       "    <tr>\n",
       "      <th>2</th>\n",
       "      <td>Hiring Data Analysts on Contract</td>\n",
       "      <td>2-5 Yrs</td>\n",
       "      <td>Bengaluru</td>\n",
       "      <td>Flipkart Internet Private Limited</td>\n",
       "    </tr>\n",
       "    <tr>\n",
       "      <th>3</th>\n",
       "      <td>Senior Data Analyst</td>\n",
       "      <td>2-5 Yrs</td>\n",
       "      <td>Bengaluru / Bangalore</td>\n",
       "      <td>Schneider Electric</td>\n",
       "    </tr>\n",
       "    <tr>\n",
       "      <th>4</th>\n",
       "      <td>Security Data Analyst</td>\n",
       "      <td>2-4 Yrs</td>\n",
       "      <td>Bengaluru</td>\n",
       "      <td>Philips India Limited</td>\n",
       "    </tr>\n",
       "    <tr>\n",
       "      <th>5</th>\n",
       "      <td>Data Analyst -Azure Data lake, Azure Data factory</td>\n",
       "      <td>5-9 Yrs</td>\n",
       "      <td>Chennai, Pune, Bengaluru, Hyderabad</td>\n",
       "      <td>Mindtree Limited</td>\n",
       "    </tr>\n",
       "    <tr>\n",
       "      <th>6</th>\n",
       "      <td>Business / Data Analyst</td>\n",
       "      <td>2-4 Yrs</td>\n",
       "      <td>Bengaluru</td>\n",
       "      <td>IBM India Pvt. Limited</td>\n",
       "    </tr>\n",
       "    <tr>\n",
       "      <th>7</th>\n",
       "      <td>Data Analyst - O2C - Bangalore</td>\n",
       "      <td>2-4 Yrs</td>\n",
       "      <td>Bengaluru</td>\n",
       "      <td>RANDSTAD INDIA PVT LTD</td>\n",
       "    </tr>\n",
       "    <tr>\n",
       "      <th>8</th>\n",
       "      <td>Intern Data Analyst</td>\n",
       "      <td>0-1 Yrs</td>\n",
       "      <td>Bengaluru</td>\n",
       "      <td>Outsource Big Data</td>\n",
       "    </tr>\n",
       "    <tr>\n",
       "      <th>9</th>\n",
       "      <td>NiFi Data Analyst</td>\n",
       "      <td>4-6 Yrs</td>\n",
       "      <td>Bengaluru</td>\n",
       "      <td>Capgemini Technology Services India Limited</td>\n",
       "    </tr>\n",
       "  </tbody>\n",
       "</table>\n",
       "</div>"
      ],
      "text/plain": [
       "                                         job_profile experience_required  \\\n",
       "0  MIS/ Data Analyst-(SQL,Automation,Excel/PowerB...             1-4 Yrs   \n",
       "1                                 Data Analyst - SAP             3-5 Yrs   \n",
       "2                   Hiring Data Analysts on Contract             2-5 Yrs   \n",
       "3                                Senior Data Analyst             2-5 Yrs   \n",
       "4                              Security Data Analyst             2-4 Yrs   \n",
       "5  Data Analyst -Azure Data lake, Azure Data factory             5-9 Yrs   \n",
       "6                            Business / Data Analyst             2-4 Yrs   \n",
       "7                     Data Analyst - O2C - Bangalore             2-4 Yrs   \n",
       "8                                Intern Data Analyst             0-1 Yrs   \n",
       "9                                  NiFi Data Analyst             4-6 Yrs   \n",
       "\n",
       "                          job_location  \\\n",
       "0                            Bengaluru   \n",
       "1      Pune, Delhi, Bengaluru, Gurgaon   \n",
       "2                            Bengaluru   \n",
       "3                Bengaluru / Bangalore   \n",
       "4                            Bengaluru   \n",
       "5  Chennai, Pune, Bengaluru, Hyderabad   \n",
       "6                            Bengaluru   \n",
       "7                            Bengaluru   \n",
       "8                            Bengaluru   \n",
       "9                            Bengaluru   \n",
       "\n",
       "                                  company_name  \n",
       "0            Flipkart Internet Private Limited  \n",
       "1                Boston Scientific Corporation  \n",
       "2            Flipkart Internet Private Limited  \n",
       "3                           Schneider Electric  \n",
       "4                        Philips India Limited  \n",
       "5                             Mindtree Limited  \n",
       "6                       IBM India Pvt. Limited  \n",
       "7                       RANDSTAD INDIA PVT LTD  \n",
       "8                           Outsource Big Data  \n",
       "9  Capgemini Technology Services India Limited  "
      ]
     },
     "execution_count": 20,
     "metadata": {},
     "output_type": "execute_result"
    }
   ],
   "source": [
    "job_details=pd.DataFrame({})\n",
    "job_details['job_profile']=job_title[0:10]\n",
    "job_details['experience_required']=experience_list[0:10]\n",
    "job_details['job_location']=job_location[0:10]\n",
    "job_details['company_name']=company_name[0:10]\n",
    "job_details"
   ]
  },
  {
   "cell_type": "markdown",
   "metadata": {},
   "source": [
    "# 2ND QUESTION FOR ASSIGNMENT 2."
   ]
  },
  {
   "cell_type": "code",
   "execution_count": 21,
   "metadata": {},
   "outputs": [],
   "source": [
    "driver2 = webdriver.Chrome(executable_path='C:/chromedriver/chromedriver.exe')"
   ]
  },
  {
   "cell_type": "code",
   "execution_count": 22,
   "metadata": {},
   "outputs": [],
   "source": [
    "driver2.get('https://www.naukri.com/ ')"
   ]
  },
  {
   "cell_type": "code",
   "execution_count": 23,
   "metadata": {},
   "outputs": [],
   "source": [
    "job_search=driver2.find_element_by_id('qsb-keyword-sugg')\n",
    "job_search.send_keys('Data Scientist')\n",
    "job_loc=driver2.find_element_by_xpath(\"//input[@id='qsb-location-sugg']\")\n",
    "job_loc.send_keys('Bangalore')\n",
    "search_btn=driver2.find_element_by_xpath(\"//div[@class='search-btn']/button\")\n",
    "search_btn.click()"
   ]
  },
  {
   "cell_type": "code",
   "execution_count": 24,
   "metadata": {},
   "outputs": [],
   "source": [
    "url='https://www.naukri.com/data-scientist-jobs-in-bangalore?k=data%20scientist&l=bangalore'"
   ]
  },
  {
   "cell_type": "code",
   "execution_count": 25,
   "metadata": {},
   "outputs": [],
   "source": [
    "driver2.get(url)"
   ]
  },
  {
   "cell_type": "code",
   "execution_count": 26,
   "metadata": {},
   "outputs": [],
   "source": [
    "job_title=[]\n",
    "company_name=[]\n",
    "job_location=[]\n",
    "experience_list=[]"
   ]
  },
  {
   "cell_type": "code",
   "execution_count": 27,
   "metadata": {},
   "outputs": [
    {
     "data": {
      "text/plain": [
       "[<selenium.webdriver.remote.webelement.WebElement (session=\"4addf2dd987856e2689d0ead90e25c13\", element=\"00352aac-3ea6-44e7-bc84-41d209b1a98c\")>,\n",
       " <selenium.webdriver.remote.webelement.WebElement (session=\"4addf2dd987856e2689d0ead90e25c13\", element=\"fe0a7679-82a6-4f86-964e-5670af596774\")>,\n",
       " <selenium.webdriver.remote.webelement.WebElement (session=\"4addf2dd987856e2689d0ead90e25c13\", element=\"74729d2a-2d02-4b9e-af30-362d87ac3b02\")>,\n",
       " <selenium.webdriver.remote.webelement.WebElement (session=\"4addf2dd987856e2689d0ead90e25c13\", element=\"1a75a338-5f34-4a40-990f-4ce27dab0529\")>,\n",
       " <selenium.webdriver.remote.webelement.WebElement (session=\"4addf2dd987856e2689d0ead90e25c13\", element=\"14f865e5-78ed-4671-b426-ea8326816c63\")>,\n",
       " <selenium.webdriver.remote.webelement.WebElement (session=\"4addf2dd987856e2689d0ead90e25c13\", element=\"bb7d7a20-8dd2-4ff6-ba1a-ba8f68cf07f1\")>,\n",
       " <selenium.webdriver.remote.webelement.WebElement (session=\"4addf2dd987856e2689d0ead90e25c13\", element=\"635506d2-4442-46d1-b3b3-a40e620deefe\")>,\n",
       " <selenium.webdriver.remote.webelement.WebElement (session=\"4addf2dd987856e2689d0ead90e25c13\", element=\"c4f83c2a-47c6-49d3-8b30-84e708f11822\")>,\n",
       " <selenium.webdriver.remote.webelement.WebElement (session=\"4addf2dd987856e2689d0ead90e25c13\", element=\"f7c0dbef-39c8-4056-8cf3-f28c0f35d221\")>,\n",
       " <selenium.webdriver.remote.webelement.WebElement (session=\"4addf2dd987856e2689d0ead90e25c13\", element=\"e45860c4-4a5d-4e54-bbc5-aa5bf2bdaf67\")>]"
      ]
     },
     "execution_count": 27,
     "metadata": {},
     "output_type": "execute_result"
    }
   ],
   "source": [
    "title_tags=driver2.find_elements_by_xpath(\"//a[@class='title fw500 ellipsis']\")\n",
    "title_tags[0:10]"
   ]
  },
  {
   "cell_type": "code",
   "execution_count": 28,
   "metadata": {},
   "outputs": [
    {
     "name": "stdout",
     "output_type": "stream",
     "text": [
      "['Data Scientist - Python/ MATLAB/ Machine Learning Algorithms', 'Lead Data Scientist - Machine Learning/ Data Mining', 'Data Scientist - Machine Learning (Commerce BU)', 'Principal Data Scientist - Machine/Deep Learning - NLP/Tensorflow', 'Data Scientist', 'Opening For Sr. Data Scientist @ Tech Mahindra', 'Opening For Sr. Data Scientist @ Tech Mahindra', 'Senior / Lead Data Scientist', 'Senior Data Scientist - NLP/ Python/ R', 'Senior Data Scientist | CES IT LTD | CMMI Level 5']\n"
     ]
    }
   ],
   "source": [
    "for i in title_tags:\n",
    "    title=i.text\n",
    "    job_title.append(title)\n",
    "print(job_title[0:10])"
   ]
  },
  {
   "cell_type": "code",
   "execution_count": 29,
   "metadata": {},
   "outputs": [
    {
     "data": {
      "text/plain": [
       "[<selenium.webdriver.remote.webelement.WebElement (session=\"4addf2dd987856e2689d0ead90e25c13\", element=\"218e32a2-a1a1-4522-b8b1-332c9639799d\")>,\n",
       " <selenium.webdriver.remote.webelement.WebElement (session=\"4addf2dd987856e2689d0ead90e25c13\", element=\"47bae4c8-9de2-4279-9676-2487ab860e61\")>,\n",
       " <selenium.webdriver.remote.webelement.WebElement (session=\"4addf2dd987856e2689d0ead90e25c13\", element=\"de08bbd3-359f-4bf0-a695-eebea47460c4\")>,\n",
       " <selenium.webdriver.remote.webelement.WebElement (session=\"4addf2dd987856e2689d0ead90e25c13\", element=\"3214c432-cf19-4f5b-bb5d-27c74639458a\")>,\n",
       " <selenium.webdriver.remote.webelement.WebElement (session=\"4addf2dd987856e2689d0ead90e25c13\", element=\"9bcd1343-cdde-48a0-8783-8c9dbb5b086a\")>,\n",
       " <selenium.webdriver.remote.webelement.WebElement (session=\"4addf2dd987856e2689d0ead90e25c13\", element=\"483491d7-03a5-4b52-8de4-47dce426e857\")>,\n",
       " <selenium.webdriver.remote.webelement.WebElement (session=\"4addf2dd987856e2689d0ead90e25c13\", element=\"01c910d1-2b34-417a-844a-d114c49f5c7c\")>,\n",
       " <selenium.webdriver.remote.webelement.WebElement (session=\"4addf2dd987856e2689d0ead90e25c13\", element=\"8529189c-ccb2-4863-add9-de4b238a3f11\")>,\n",
       " <selenium.webdriver.remote.webelement.WebElement (session=\"4addf2dd987856e2689d0ead90e25c13\", element=\"1eb73bcb-b2b3-4716-bcc6-52cce7535cff\")>,\n",
       " <selenium.webdriver.remote.webelement.WebElement (session=\"4addf2dd987856e2689d0ead90e25c13\", element=\"b8ac4d6e-abfa-465e-92a7-e27e85df51a0\")>]"
      ]
     },
     "execution_count": 29,
     "metadata": {},
     "output_type": "execute_result"
    }
   ],
   "source": [
    "company_tags=driver2.find_elements_by_xpath(\"//a[@class='subTitle ellipsis fleft']\")\n",
    "company_tags[0:10]"
   ]
  },
  {
   "cell_type": "code",
   "execution_count": 30,
   "metadata": {},
   "outputs": [
    {
     "name": "stdout",
     "output_type": "stream",
     "text": [
      "['Wrackle Technologies Pvt Ltd', 'Wrackle Technologies Pvt Ltd', 'BLUE YONDER INDIA PRIVATE LIMITED', 'Fidius advisory', 'Atos Syntel Private Limited', 'Tech Mahindra Ltd.', 'Tech Mahindra Ltd.', 'TVS CREDIT SERVICES LIMITED', 'AVI Consulting LLP', 'CES Ltd.']\n"
     ]
    }
   ],
   "source": [
    "for i in company_tags:\n",
    "    company_names=i.text\n",
    "    company_name.append(company_names)\n",
    "print(company_name[0:10])"
   ]
  },
  {
   "cell_type": "code",
   "execution_count": 31,
   "metadata": {},
   "outputs": [
    {
     "data": {
      "text/plain": [
       "[<selenium.webdriver.remote.webelement.WebElement (session=\"4addf2dd987856e2689d0ead90e25c13\", element=\"eb7ebeb8-b7be-4a1b-a37a-a8f6027c869c\")>,\n",
       " <selenium.webdriver.remote.webelement.WebElement (session=\"4addf2dd987856e2689d0ead90e25c13\", element=\"7dcc47ce-d428-4560-920a-b3ae18390865\")>,\n",
       " <selenium.webdriver.remote.webelement.WebElement (session=\"4addf2dd987856e2689d0ead90e25c13\", element=\"7880f6fc-6275-46af-9f2f-3bf1ac54b18e\")>,\n",
       " <selenium.webdriver.remote.webelement.WebElement (session=\"4addf2dd987856e2689d0ead90e25c13\", element=\"847db74c-f479-430e-9ce8-324e55d27f31\")>,\n",
       " <selenium.webdriver.remote.webelement.WebElement (session=\"4addf2dd987856e2689d0ead90e25c13\", element=\"dc337d9d-e636-48dd-932a-40c9212b540a\")>,\n",
       " <selenium.webdriver.remote.webelement.WebElement (session=\"4addf2dd987856e2689d0ead90e25c13\", element=\"8cc370e7-46d8-4ff0-9261-b15182fd434d\")>,\n",
       " <selenium.webdriver.remote.webelement.WebElement (session=\"4addf2dd987856e2689d0ead90e25c13\", element=\"b7a82842-4f03-4024-818f-58c37e844f12\")>,\n",
       " <selenium.webdriver.remote.webelement.WebElement (session=\"4addf2dd987856e2689d0ead90e25c13\", element=\"31f114bd-5b50-4090-b569-650b95829cff\")>,\n",
       " <selenium.webdriver.remote.webelement.WebElement (session=\"4addf2dd987856e2689d0ead90e25c13\", element=\"0863e21d-a299-4e18-a736-7f8ea1c3c31c\")>,\n",
       " <selenium.webdriver.remote.webelement.WebElement (session=\"4addf2dd987856e2689d0ead90e25c13\", element=\"efbcfc5c-c842-48af-8ca2-09b92e71fe2f\")>]"
      ]
     },
     "execution_count": 31,
     "metadata": {},
     "output_type": "execute_result"
    }
   ],
   "source": [
    "location_tags=driver2.find_elements_by_xpath(\"//li[@class='fleft grey-text br2 placeHolderLi location']/span[1]\")\n",
    "location_tags[0:10]"
   ]
  },
  {
   "cell_type": "code",
   "execution_count": 32,
   "metadata": {},
   "outputs": [
    {
     "name": "stdout",
     "output_type": "stream",
     "text": [
      "['Bengaluru', 'Bengaluru', 'Bengaluru', 'Bengaluru', 'Chennai, Pune, Mumbai, Bengaluru', 'Pune, Bengaluru', 'Pune, Bengaluru', 'Chennai, Pune, Bengaluru', 'Bengaluru, Hyderabad', 'Chennai, Pune, Delhi NCR, Mumbai, Bengaluru, Hyderabad, Kolkata']\n"
     ]
    }
   ],
   "source": [
    "for i in location_tags:\n",
    "    location_names=i.text\n",
    "    job_location.append(location_names)\n",
    "print(job_location[0:10])"
   ]
  },
  {
   "cell_type": "code",
   "execution_count": 33,
   "metadata": {},
   "outputs": [
    {
     "data": {
      "text/plain": [
       "[<selenium.webdriver.remote.webelement.WebElement (session=\"4addf2dd987856e2689d0ead90e25c13\", element=\"b874f6ec-83de-4748-babb-d4c6c370675b\")>,\n",
       " <selenium.webdriver.remote.webelement.WebElement (session=\"4addf2dd987856e2689d0ead90e25c13\", element=\"cd2a84bc-7ce6-4b19-9818-f021f06c17eb\")>,\n",
       " <selenium.webdriver.remote.webelement.WebElement (session=\"4addf2dd987856e2689d0ead90e25c13\", element=\"94662a7f-3825-4f3f-81e0-004512ef209f\")>,\n",
       " <selenium.webdriver.remote.webelement.WebElement (session=\"4addf2dd987856e2689d0ead90e25c13\", element=\"72ba5cc1-0666-4617-9a96-6832005fd8d7\")>,\n",
       " <selenium.webdriver.remote.webelement.WebElement (session=\"4addf2dd987856e2689d0ead90e25c13\", element=\"7873f5dc-2ebd-45d8-8afa-b22c8444ee5d\")>,\n",
       " <selenium.webdriver.remote.webelement.WebElement (session=\"4addf2dd987856e2689d0ead90e25c13\", element=\"ee55473a-03f9-4419-8970-340ff4b6ec3f\")>,\n",
       " <selenium.webdriver.remote.webelement.WebElement (session=\"4addf2dd987856e2689d0ead90e25c13\", element=\"efe429a9-cf5a-481b-a6f2-170b00994eb4\")>,\n",
       " <selenium.webdriver.remote.webelement.WebElement (session=\"4addf2dd987856e2689d0ead90e25c13\", element=\"67ec554f-5186-4a1b-b7e6-496944130c88\")>,\n",
       " <selenium.webdriver.remote.webelement.WebElement (session=\"4addf2dd987856e2689d0ead90e25c13\", element=\"99837862-1871-48bd-80c7-bacbf30ac068\")>,\n",
       " <selenium.webdriver.remote.webelement.WebElement (session=\"4addf2dd987856e2689d0ead90e25c13\", element=\"fbc5b276-0055-474f-b8b6-e1415442fa35\")>]"
      ]
     },
     "execution_count": 33,
     "metadata": {},
     "output_type": "execute_result"
    }
   ],
   "source": [
    "experience_tags=driver2.find_elements_by_xpath(\"//li[@class='fleft grey-text br2 placeHolderLi experience']/span[1]\")\n",
    "experience_tags[0:10]"
   ]
  },
  {
   "cell_type": "code",
   "execution_count": 34,
   "metadata": {},
   "outputs": [
    {
     "name": "stdout",
     "output_type": "stream",
     "text": [
      "['3-8 Yrs', '6-11 Yrs', '4-6 Yrs', '8-13 Yrs', '12-18 Yrs', '12-20 Yrs', '12-20 Yrs', '3-8 Yrs', '4-9 Yrs', '2-7 Yrs']\n"
     ]
    }
   ],
   "source": [
    "for i in experience_tags:\n",
    "    experience=i.text\n",
    "    experience_list.append(experience)\n",
    "print(experience_list[0:10])"
   ]
  },
  {
   "cell_type": "code",
   "execution_count": 25,
   "metadata": {},
   "outputs": [
    {
     "data": {
      "text/plain": [
       "[]"
      ]
     },
     "execution_count": 25,
     "metadata": {},
     "output_type": "execute_result"
    }
   ],
   "source": [
    "urls=driver2.find_elements_by_xpath(\"/a[@class='title fw500 ellipsis']\")\n",
    "urls[0:10]"
   ]
  },
  {
   "cell_type": "markdown",
   "metadata": {},
   "source": [
    "unable to scrape the job description in between webpages."
   ]
  },
  {
   "cell_type": "code",
   "execution_count": 26,
   "metadata": {},
   "outputs": [],
   "source": [
    "for i in urls[0:10]:\n",
    "    print(i.get_attribute('href'))\n",
    "    driver2.get(i.get_attribute('href'))"
   ]
  },
  {
   "cell_type": "code",
   "execution_count": 35,
   "metadata": {},
   "outputs": [
    {
     "data": {
      "text/html": [
       "<div>\n",
       "<style scoped>\n",
       "    .dataframe tbody tr th:only-of-type {\n",
       "        vertical-align: middle;\n",
       "    }\n",
       "\n",
       "    .dataframe tbody tr th {\n",
       "        vertical-align: top;\n",
       "    }\n",
       "\n",
       "    .dataframe thead th {\n",
       "        text-align: right;\n",
       "    }\n",
       "</style>\n",
       "<table border=\"1\" class=\"dataframe\">\n",
       "  <thead>\n",
       "    <tr style=\"text-align: right;\">\n",
       "      <th></th>\n",
       "      <th>job_profile</th>\n",
       "      <th>experience_required</th>\n",
       "      <th>job_location</th>\n",
       "      <th>company_name</th>\n",
       "    </tr>\n",
       "  </thead>\n",
       "  <tbody>\n",
       "    <tr>\n",
       "      <th>0</th>\n",
       "      <td>Data Scientist - Python/ MATLAB/ Machine Learn...</td>\n",
       "      <td>3-8 Yrs</td>\n",
       "      <td>Bengaluru</td>\n",
       "      <td>Wrackle Technologies Pvt Ltd</td>\n",
       "    </tr>\n",
       "    <tr>\n",
       "      <th>1</th>\n",
       "      <td>Lead Data Scientist - Machine Learning/ Data M...</td>\n",
       "      <td>6-11 Yrs</td>\n",
       "      <td>Bengaluru</td>\n",
       "      <td>Wrackle Technologies Pvt Ltd</td>\n",
       "    </tr>\n",
       "    <tr>\n",
       "      <th>2</th>\n",
       "      <td>Data Scientist - Machine Learning (Commerce BU)</td>\n",
       "      <td>4-6 Yrs</td>\n",
       "      <td>Bengaluru</td>\n",
       "      <td>BLUE YONDER INDIA PRIVATE LIMITED</td>\n",
       "    </tr>\n",
       "    <tr>\n",
       "      <th>3</th>\n",
       "      <td>Principal Data Scientist - Machine/Deep Learni...</td>\n",
       "      <td>8-13 Yrs</td>\n",
       "      <td>Bengaluru</td>\n",
       "      <td>Fidius advisory</td>\n",
       "    </tr>\n",
       "    <tr>\n",
       "      <th>4</th>\n",
       "      <td>Data Scientist</td>\n",
       "      <td>12-18 Yrs</td>\n",
       "      <td>Chennai, Pune, Mumbai, Bengaluru</td>\n",
       "      <td>Atos Syntel Private Limited</td>\n",
       "    </tr>\n",
       "    <tr>\n",
       "      <th>5</th>\n",
       "      <td>Opening For Sr. Data Scientist @ Tech Mahindra</td>\n",
       "      <td>12-20 Yrs</td>\n",
       "      <td>Pune, Bengaluru</td>\n",
       "      <td>Tech Mahindra Ltd.</td>\n",
       "    </tr>\n",
       "    <tr>\n",
       "      <th>6</th>\n",
       "      <td>Opening For Sr. Data Scientist @ Tech Mahindra</td>\n",
       "      <td>12-20 Yrs</td>\n",
       "      <td>Pune, Bengaluru</td>\n",
       "      <td>Tech Mahindra Ltd.</td>\n",
       "    </tr>\n",
       "    <tr>\n",
       "      <th>7</th>\n",
       "      <td>Senior / Lead Data Scientist</td>\n",
       "      <td>3-8 Yrs</td>\n",
       "      <td>Chennai, Pune, Bengaluru</td>\n",
       "      <td>TVS CREDIT SERVICES LIMITED</td>\n",
       "    </tr>\n",
       "    <tr>\n",
       "      <th>8</th>\n",
       "      <td>Senior Data Scientist - NLP/ Python/ R</td>\n",
       "      <td>4-9 Yrs</td>\n",
       "      <td>Bengaluru, Hyderabad</td>\n",
       "      <td>AVI Consulting LLP</td>\n",
       "    </tr>\n",
       "    <tr>\n",
       "      <th>9</th>\n",
       "      <td>Senior Data Scientist | CES IT LTD | CMMI Level 5</td>\n",
       "      <td>2-7 Yrs</td>\n",
       "      <td>Chennai, Pune, Delhi NCR, Mumbai, Bengaluru, H...</td>\n",
       "      <td>CES Ltd.</td>\n",
       "    </tr>\n",
       "  </tbody>\n",
       "</table>\n",
       "</div>"
      ],
      "text/plain": [
       "                                         job_profile experience_required  \\\n",
       "0  Data Scientist - Python/ MATLAB/ Machine Learn...             3-8 Yrs   \n",
       "1  Lead Data Scientist - Machine Learning/ Data M...            6-11 Yrs   \n",
       "2    Data Scientist - Machine Learning (Commerce BU)             4-6 Yrs   \n",
       "3  Principal Data Scientist - Machine/Deep Learni...            8-13 Yrs   \n",
       "4                                     Data Scientist           12-18 Yrs   \n",
       "5     Opening For Sr. Data Scientist @ Tech Mahindra           12-20 Yrs   \n",
       "6     Opening For Sr. Data Scientist @ Tech Mahindra           12-20 Yrs   \n",
       "7                       Senior / Lead Data Scientist             3-8 Yrs   \n",
       "8             Senior Data Scientist - NLP/ Python/ R             4-9 Yrs   \n",
       "9  Senior Data Scientist | CES IT LTD | CMMI Level 5             2-7 Yrs   \n",
       "\n",
       "                                        job_location  \\\n",
       "0                                          Bengaluru   \n",
       "1                                          Bengaluru   \n",
       "2                                          Bengaluru   \n",
       "3                                          Bengaluru   \n",
       "4                   Chennai, Pune, Mumbai, Bengaluru   \n",
       "5                                    Pune, Bengaluru   \n",
       "6                                    Pune, Bengaluru   \n",
       "7                           Chennai, Pune, Bengaluru   \n",
       "8                               Bengaluru, Hyderabad   \n",
       "9  Chennai, Pune, Delhi NCR, Mumbai, Bengaluru, H...   \n",
       "\n",
       "                        company_name  \n",
       "0       Wrackle Technologies Pvt Ltd  \n",
       "1       Wrackle Technologies Pvt Ltd  \n",
       "2  BLUE YONDER INDIA PRIVATE LIMITED  \n",
       "3                    Fidius advisory  \n",
       "4        Atos Syntel Private Limited  \n",
       "5                 Tech Mahindra Ltd.  \n",
       "6                 Tech Mahindra Ltd.  \n",
       "7        TVS CREDIT SERVICES LIMITED  \n",
       "8                 AVI Consulting LLP  \n",
       "9                           CES Ltd.  "
      ]
     },
     "execution_count": 35,
     "metadata": {},
     "output_type": "execute_result"
    }
   ],
   "source": [
    "job=pd.DataFrame({})\n",
    "job['job_profile']=job_title[0:10]\n",
    "job['experience_required']=experience_list[0:10]\n",
    "job['job_location']=job_location[0:10]\n",
    "job['company_name']=company_name[0:10]\n",
    "job"
   ]
  },
  {
   "cell_type": "markdown",
   "metadata": {},
   "source": [
    "# 3rd Question of Assignment 2."
   ]
  },
  {
   "cell_type": "code",
   "execution_count": null,
   "metadata": {},
   "outputs": [],
   "source": [
    "driver3 = webdriver.Chrome(executable_path='C:/chromedriver/chromedriver.exe')"
   ]
  },
  {
   "cell_type": "code",
   "execution_count": null,
   "metadata": {},
   "outputs": [],
   "source": [
    "driver3.get('https://www.naukri.com/')"
   ]
  },
  {
   "cell_type": "code",
   "execution_count": 38,
   "metadata": {},
   "outputs": [],
   "source": [
    "job_search=driver3.find_element_by_id('qsb-keyword-sugg')\n",
    "job_search.send_keys('Data Scientist')\n",
    "search_btn=driver3.find_element_by_xpath(\"//div[@class='search-btn']/button\")\n",
    "search_btn.click()"
   ]
  },
  {
   "cell_type": "code",
   "execution_count": 41,
   "metadata": {},
   "outputs": [
    {
     "ename": "WebDriverException",
     "evalue": "Message: chrome not reachable\n  (Session info: chrome=88.0.4324.150)\n",
     "output_type": "error",
     "traceback": [
      "\u001b[1;31m---------------------------------------------------------------------------\u001b[0m",
      "\u001b[1;31mWebDriverException\u001b[0m                        Traceback (most recent call last)",
      "\u001b[1;32m<ipython-input-41-e6f44c12af33>\u001b[0m in \u001b[0;36m<module>\u001b[1;34m\u001b[0m\n\u001b[1;32m----> 1\u001b[1;33m \u001b[0mcheck_box1\u001b[0m\u001b[1;33m=\u001b[0m\u001b[0mdriver3\u001b[0m\u001b[1;33m.\u001b[0m\u001b[0mfind_element_by_xpath\u001b[0m\u001b[1;33m(\u001b[0m\u001b[1;34m\"//p[@class='grey-text lH20 fleft ml-8 txtLbl']/span\"\u001b[0m\u001b[1;33m)\u001b[0m\u001b[1;33m\u001b[0m\u001b[1;33m\u001b[0m\u001b[0m\n\u001b[0m\u001b[0;32m      2\u001b[0m \u001b[0mcheck_box1\u001b[0m\u001b[1;33m.\u001b[0m\u001b[0mclick\u001b[0m\u001b[1;33m(\u001b[0m\u001b[1;33m)\u001b[0m\u001b[1;33m\u001b[0m\u001b[1;33m\u001b[0m\u001b[0m\n",
      "\u001b[1;32mC:\\ProgramData\\Anaconda3\\lib\\site-packages\\selenium\\webdriver\\remote\\webdriver.py\u001b[0m in \u001b[0;36mfind_element_by_xpath\u001b[1;34m(self, xpath)\u001b[0m\n\u001b[0;32m    392\u001b[0m             \u001b[0melement\u001b[0m \u001b[1;33m=\u001b[0m \u001b[0mdriver\u001b[0m\u001b[1;33m.\u001b[0m\u001b[0mfind_element_by_xpath\u001b[0m\u001b[1;33m(\u001b[0m\u001b[1;34m'//div/td[1]'\u001b[0m\u001b[1;33m)\u001b[0m\u001b[1;33m\u001b[0m\u001b[1;33m\u001b[0m\u001b[0m\n\u001b[0;32m    393\u001b[0m         \"\"\"\n\u001b[1;32m--> 394\u001b[1;33m         \u001b[1;32mreturn\u001b[0m \u001b[0mself\u001b[0m\u001b[1;33m.\u001b[0m\u001b[0mfind_element\u001b[0m\u001b[1;33m(\u001b[0m\u001b[0mby\u001b[0m\u001b[1;33m=\u001b[0m\u001b[0mBy\u001b[0m\u001b[1;33m.\u001b[0m\u001b[0mXPATH\u001b[0m\u001b[1;33m,\u001b[0m \u001b[0mvalue\u001b[0m\u001b[1;33m=\u001b[0m\u001b[0mxpath\u001b[0m\u001b[1;33m)\u001b[0m\u001b[1;33m\u001b[0m\u001b[1;33m\u001b[0m\u001b[0m\n\u001b[0m\u001b[0;32m    395\u001b[0m \u001b[1;33m\u001b[0m\u001b[0m\n\u001b[0;32m    396\u001b[0m     \u001b[1;32mdef\u001b[0m \u001b[0mfind_elements_by_xpath\u001b[0m\u001b[1;33m(\u001b[0m\u001b[0mself\u001b[0m\u001b[1;33m,\u001b[0m \u001b[0mxpath\u001b[0m\u001b[1;33m)\u001b[0m\u001b[1;33m:\u001b[0m\u001b[1;33m\u001b[0m\u001b[1;33m\u001b[0m\u001b[0m\n",
      "\u001b[1;32mC:\\ProgramData\\Anaconda3\\lib\\site-packages\\selenium\\webdriver\\remote\\webdriver.py\u001b[0m in \u001b[0;36mfind_element\u001b[1;34m(self, by, value)\u001b[0m\n\u001b[0;32m    974\u001b[0m                 \u001b[0mby\u001b[0m \u001b[1;33m=\u001b[0m \u001b[0mBy\u001b[0m\u001b[1;33m.\u001b[0m\u001b[0mCSS_SELECTOR\u001b[0m\u001b[1;33m\u001b[0m\u001b[1;33m\u001b[0m\u001b[0m\n\u001b[0;32m    975\u001b[0m                 \u001b[0mvalue\u001b[0m \u001b[1;33m=\u001b[0m \u001b[1;34m'[name=\"%s\"]'\u001b[0m \u001b[1;33m%\u001b[0m \u001b[0mvalue\u001b[0m\u001b[1;33m\u001b[0m\u001b[1;33m\u001b[0m\u001b[0m\n\u001b[1;32m--> 976\u001b[1;33m         return self.execute(Command.FIND_ELEMENT, {\n\u001b[0m\u001b[0;32m    977\u001b[0m             \u001b[1;34m'using'\u001b[0m\u001b[1;33m:\u001b[0m \u001b[0mby\u001b[0m\u001b[1;33m,\u001b[0m\u001b[1;33m\u001b[0m\u001b[1;33m\u001b[0m\u001b[0m\n\u001b[0;32m    978\u001b[0m             'value': value})['value']\n",
      "\u001b[1;32mC:\\ProgramData\\Anaconda3\\lib\\site-packages\\selenium\\webdriver\\remote\\webdriver.py\u001b[0m in \u001b[0;36mexecute\u001b[1;34m(self, driver_command, params)\u001b[0m\n\u001b[0;32m    319\u001b[0m         \u001b[0mresponse\u001b[0m \u001b[1;33m=\u001b[0m \u001b[0mself\u001b[0m\u001b[1;33m.\u001b[0m\u001b[0mcommand_executor\u001b[0m\u001b[1;33m.\u001b[0m\u001b[0mexecute\u001b[0m\u001b[1;33m(\u001b[0m\u001b[0mdriver_command\u001b[0m\u001b[1;33m,\u001b[0m \u001b[0mparams\u001b[0m\u001b[1;33m)\u001b[0m\u001b[1;33m\u001b[0m\u001b[1;33m\u001b[0m\u001b[0m\n\u001b[0;32m    320\u001b[0m         \u001b[1;32mif\u001b[0m \u001b[0mresponse\u001b[0m\u001b[1;33m:\u001b[0m\u001b[1;33m\u001b[0m\u001b[1;33m\u001b[0m\u001b[0m\n\u001b[1;32m--> 321\u001b[1;33m             \u001b[0mself\u001b[0m\u001b[1;33m.\u001b[0m\u001b[0merror_handler\u001b[0m\u001b[1;33m.\u001b[0m\u001b[0mcheck_response\u001b[0m\u001b[1;33m(\u001b[0m\u001b[0mresponse\u001b[0m\u001b[1;33m)\u001b[0m\u001b[1;33m\u001b[0m\u001b[1;33m\u001b[0m\u001b[0m\n\u001b[0m\u001b[0;32m    322\u001b[0m             response['value'] = self._unwrap_value(\n\u001b[0;32m    323\u001b[0m                 response.get('value', None))\n",
      "\u001b[1;32mC:\\ProgramData\\Anaconda3\\lib\\site-packages\\selenium\\webdriver\\remote\\errorhandler.py\u001b[0m in \u001b[0;36mcheck_response\u001b[1;34m(self, response)\u001b[0m\n\u001b[0;32m    240\u001b[0m                 \u001b[0malert_text\u001b[0m \u001b[1;33m=\u001b[0m \u001b[0mvalue\u001b[0m\u001b[1;33m[\u001b[0m\u001b[1;34m'alert'\u001b[0m\u001b[1;33m]\u001b[0m\u001b[1;33m.\u001b[0m\u001b[0mget\u001b[0m\u001b[1;33m(\u001b[0m\u001b[1;34m'text'\u001b[0m\u001b[1;33m)\u001b[0m\u001b[1;33m\u001b[0m\u001b[1;33m\u001b[0m\u001b[0m\n\u001b[0;32m    241\u001b[0m             \u001b[1;32mraise\u001b[0m \u001b[0mexception_class\u001b[0m\u001b[1;33m(\u001b[0m\u001b[0mmessage\u001b[0m\u001b[1;33m,\u001b[0m \u001b[0mscreen\u001b[0m\u001b[1;33m,\u001b[0m \u001b[0mstacktrace\u001b[0m\u001b[1;33m,\u001b[0m \u001b[0malert_text\u001b[0m\u001b[1;33m)\u001b[0m\u001b[1;33m\u001b[0m\u001b[1;33m\u001b[0m\u001b[0m\n\u001b[1;32m--> 242\u001b[1;33m         \u001b[1;32mraise\u001b[0m \u001b[0mexception_class\u001b[0m\u001b[1;33m(\u001b[0m\u001b[0mmessage\u001b[0m\u001b[1;33m,\u001b[0m \u001b[0mscreen\u001b[0m\u001b[1;33m,\u001b[0m \u001b[0mstacktrace\u001b[0m\u001b[1;33m)\u001b[0m\u001b[1;33m\u001b[0m\u001b[1;33m\u001b[0m\u001b[0m\n\u001b[0m\u001b[0;32m    243\u001b[0m \u001b[1;33m\u001b[0m\u001b[0m\n\u001b[0;32m    244\u001b[0m     \u001b[1;32mdef\u001b[0m \u001b[0m_value_or_default\u001b[0m\u001b[1;33m(\u001b[0m\u001b[0mself\u001b[0m\u001b[1;33m,\u001b[0m \u001b[0mobj\u001b[0m\u001b[1;33m,\u001b[0m \u001b[0mkey\u001b[0m\u001b[1;33m,\u001b[0m \u001b[0mdefault\u001b[0m\u001b[1;33m)\u001b[0m\u001b[1;33m:\u001b[0m\u001b[1;33m\u001b[0m\u001b[1;33m\u001b[0m\u001b[0m\n",
      "\u001b[1;31mWebDriverException\u001b[0m: Message: chrome not reachable\n  (Session info: chrome=88.0.4324.150)\n"
     ]
    }
   ],
   "source": [
    "check_box1=driver3.find_element_by_xpath(\"//p[@class='grey-text lH20 fleft ml-8 txtLbl']/span\")\n",
    "check_box1.click()"
   ]
  },
  {
   "cell_type": "code",
   "execution_count": 40,
   "metadata": {},
   "outputs": [],
   "source": []
  },
  {
   "cell_type": "code",
   "execution_count": null,
   "metadata": {},
   "outputs": [],
   "source": []
  }
 ],
 "metadata": {
  "kernelspec": {
   "display_name": "Python 3",
   "language": "python",
   "name": "python3"
  },
  "language_info": {
   "codemirror_mode": {
    "name": "ipython",
    "version": 3
   },
   "file_extension": ".py",
   "mimetype": "text/x-python",
   "name": "python",
   "nbconvert_exporter": "python",
   "pygments_lexer": "ipython3",
   "version": "3.8.3"
  }
 },
 "nbformat": 4,
 "nbformat_minor": 4
}
