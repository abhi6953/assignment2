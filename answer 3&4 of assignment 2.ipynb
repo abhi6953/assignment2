{
 "cells": [
  {
   "cell_type": "code",
   "execution_count": 79,
   "metadata": {},
   "outputs": [],
   "source": [
    "import selenium\n",
    "from selenium import webdriver\n",
    "import pandas as pd"
   ]
  },
  {
   "cell_type": "code",
   "execution_count": 80,
   "metadata": {},
   "outputs": [],
   "source": [
    "driver = webdriver.Chrome(executable_path='C:/chromedriver/chromedriver.exe')"
   ]
  },
  {
   "cell_type": "code",
   "execution_count": 81,
   "metadata": {},
   "outputs": [],
   "source": [
    "driver.get('https://www.naukri.com/')"
   ]
  },
  {
   "cell_type": "code",
   "execution_count": 82,
   "metadata": {},
   "outputs": [],
   "source": [
    "job_search=driver.find_element_by_id('qsb-keyword-sugg')\n",
    "job_search.send_keys('Data Scientist')\n",
    "search_btn=driver.find_element_by_xpath(\"//div[@class='search-btn']/button\")\n",
    "search_btn.click()"
   ]
  },
  {
   "cell_type": "code",
   "execution_count": 37,
   "metadata": {},
   "outputs": [],
   "source": [
    "loc_filter=driver.find_element_by_xpath(\"//div[@class='filterOptns']/div[2]\")\n",
    "loc_filter.click()"
   ]
  },
  {
   "cell_type": "code",
   "execution_count": 41,
   "metadata": {},
   "outputs": [
    {
     "ename": "NoSuchElementException",
     "evalue": "Message: no such element: Unable to locate element: {\"method\":\"xpath\",\"selector\":\"//div[@class='filtersContainer fleft']/div[3]\"}\n  (Session info: chrome=88.0.4324.150)\n",
     "output_type": "error",
     "traceback": [
      "\u001b[1;31m---------------------------------------------------------------------------\u001b[0m",
      "\u001b[1;31mNoSuchElementException\u001b[0m                    Traceback (most recent call last)",
      "\u001b[1;32m<ipython-input-41-d3d2bc02216f>\u001b[0m in \u001b[0;36m<module>\u001b[1;34m\u001b[0m\n\u001b[1;32m----> 1\u001b[1;33m \u001b[0msal_filter\u001b[0m\u001b[1;33m=\u001b[0m\u001b[0mdriver\u001b[0m\u001b[1;33m.\u001b[0m\u001b[0mfind_element_by_xpath\u001b[0m\u001b[1;33m(\u001b[0m\u001b[1;34m\"//div[@class='filtersContainer fleft']/div[3]\"\u001b[0m\u001b[1;33m)\u001b[0m\u001b[1;33m\u001b[0m\u001b[1;33m\u001b[0m\u001b[0m\n\u001b[0m\u001b[0;32m      2\u001b[0m \u001b[0msal_filter\u001b[0m\u001b[1;33m.\u001b[0m\u001b[0mclick\u001b[0m\u001b[1;33m(\u001b[0m\u001b[1;33m)\u001b[0m\u001b[1;33m\u001b[0m\u001b[1;33m\u001b[0m\u001b[0m\n",
      "\u001b[1;32mC:\\ProgramData\\Anaconda3\\lib\\site-packages\\selenium\\webdriver\\remote\\webdriver.py\u001b[0m in \u001b[0;36mfind_element_by_xpath\u001b[1;34m(self, xpath)\u001b[0m\n\u001b[0;32m    392\u001b[0m             \u001b[0melement\u001b[0m \u001b[1;33m=\u001b[0m \u001b[0mdriver\u001b[0m\u001b[1;33m.\u001b[0m\u001b[0mfind_element_by_xpath\u001b[0m\u001b[1;33m(\u001b[0m\u001b[1;34m'//div/td[1]'\u001b[0m\u001b[1;33m)\u001b[0m\u001b[1;33m\u001b[0m\u001b[1;33m\u001b[0m\u001b[0m\n\u001b[0;32m    393\u001b[0m         \"\"\"\n\u001b[1;32m--> 394\u001b[1;33m         \u001b[1;32mreturn\u001b[0m \u001b[0mself\u001b[0m\u001b[1;33m.\u001b[0m\u001b[0mfind_element\u001b[0m\u001b[1;33m(\u001b[0m\u001b[0mby\u001b[0m\u001b[1;33m=\u001b[0m\u001b[0mBy\u001b[0m\u001b[1;33m.\u001b[0m\u001b[0mXPATH\u001b[0m\u001b[1;33m,\u001b[0m \u001b[0mvalue\u001b[0m\u001b[1;33m=\u001b[0m\u001b[0mxpath\u001b[0m\u001b[1;33m)\u001b[0m\u001b[1;33m\u001b[0m\u001b[1;33m\u001b[0m\u001b[0m\n\u001b[0m\u001b[0;32m    395\u001b[0m \u001b[1;33m\u001b[0m\u001b[0m\n\u001b[0;32m    396\u001b[0m     \u001b[1;32mdef\u001b[0m \u001b[0mfind_elements_by_xpath\u001b[0m\u001b[1;33m(\u001b[0m\u001b[0mself\u001b[0m\u001b[1;33m,\u001b[0m \u001b[0mxpath\u001b[0m\u001b[1;33m)\u001b[0m\u001b[1;33m:\u001b[0m\u001b[1;33m\u001b[0m\u001b[1;33m\u001b[0m\u001b[0m\n",
      "\u001b[1;32mC:\\ProgramData\\Anaconda3\\lib\\site-packages\\selenium\\webdriver\\remote\\webdriver.py\u001b[0m in \u001b[0;36mfind_element\u001b[1;34m(self, by, value)\u001b[0m\n\u001b[0;32m    974\u001b[0m                 \u001b[0mby\u001b[0m \u001b[1;33m=\u001b[0m \u001b[0mBy\u001b[0m\u001b[1;33m.\u001b[0m\u001b[0mCSS_SELECTOR\u001b[0m\u001b[1;33m\u001b[0m\u001b[1;33m\u001b[0m\u001b[0m\n\u001b[0;32m    975\u001b[0m                 \u001b[0mvalue\u001b[0m \u001b[1;33m=\u001b[0m \u001b[1;34m'[name=\"%s\"]'\u001b[0m \u001b[1;33m%\u001b[0m \u001b[0mvalue\u001b[0m\u001b[1;33m\u001b[0m\u001b[1;33m\u001b[0m\u001b[0m\n\u001b[1;32m--> 976\u001b[1;33m         return self.execute(Command.FIND_ELEMENT, {\n\u001b[0m\u001b[0;32m    977\u001b[0m             \u001b[1;34m'using'\u001b[0m\u001b[1;33m:\u001b[0m \u001b[0mby\u001b[0m\u001b[1;33m,\u001b[0m\u001b[1;33m\u001b[0m\u001b[1;33m\u001b[0m\u001b[0m\n\u001b[0;32m    978\u001b[0m             'value': value})['value']\n",
      "\u001b[1;32mC:\\ProgramData\\Anaconda3\\lib\\site-packages\\selenium\\webdriver\\remote\\webdriver.py\u001b[0m in \u001b[0;36mexecute\u001b[1;34m(self, driver_command, params)\u001b[0m\n\u001b[0;32m    319\u001b[0m         \u001b[0mresponse\u001b[0m \u001b[1;33m=\u001b[0m \u001b[0mself\u001b[0m\u001b[1;33m.\u001b[0m\u001b[0mcommand_executor\u001b[0m\u001b[1;33m.\u001b[0m\u001b[0mexecute\u001b[0m\u001b[1;33m(\u001b[0m\u001b[0mdriver_command\u001b[0m\u001b[1;33m,\u001b[0m \u001b[0mparams\u001b[0m\u001b[1;33m)\u001b[0m\u001b[1;33m\u001b[0m\u001b[1;33m\u001b[0m\u001b[0m\n\u001b[0;32m    320\u001b[0m         \u001b[1;32mif\u001b[0m \u001b[0mresponse\u001b[0m\u001b[1;33m:\u001b[0m\u001b[1;33m\u001b[0m\u001b[1;33m\u001b[0m\u001b[0m\n\u001b[1;32m--> 321\u001b[1;33m             \u001b[0mself\u001b[0m\u001b[1;33m.\u001b[0m\u001b[0merror_handler\u001b[0m\u001b[1;33m.\u001b[0m\u001b[0mcheck_response\u001b[0m\u001b[1;33m(\u001b[0m\u001b[0mresponse\u001b[0m\u001b[1;33m)\u001b[0m\u001b[1;33m\u001b[0m\u001b[1;33m\u001b[0m\u001b[0m\n\u001b[0m\u001b[0;32m    322\u001b[0m             response['value'] = self._unwrap_value(\n\u001b[0;32m    323\u001b[0m                 response.get('value', None))\n",
      "\u001b[1;32mC:\\ProgramData\\Anaconda3\\lib\\site-packages\\selenium\\webdriver\\remote\\errorhandler.py\u001b[0m in \u001b[0;36mcheck_response\u001b[1;34m(self, response)\u001b[0m\n\u001b[0;32m    240\u001b[0m                 \u001b[0malert_text\u001b[0m \u001b[1;33m=\u001b[0m \u001b[0mvalue\u001b[0m\u001b[1;33m[\u001b[0m\u001b[1;34m'alert'\u001b[0m\u001b[1;33m]\u001b[0m\u001b[1;33m.\u001b[0m\u001b[0mget\u001b[0m\u001b[1;33m(\u001b[0m\u001b[1;34m'text'\u001b[0m\u001b[1;33m)\u001b[0m\u001b[1;33m\u001b[0m\u001b[1;33m\u001b[0m\u001b[0m\n\u001b[0;32m    241\u001b[0m             \u001b[1;32mraise\u001b[0m \u001b[0mexception_class\u001b[0m\u001b[1;33m(\u001b[0m\u001b[0mmessage\u001b[0m\u001b[1;33m,\u001b[0m \u001b[0mscreen\u001b[0m\u001b[1;33m,\u001b[0m \u001b[0mstacktrace\u001b[0m\u001b[1;33m,\u001b[0m \u001b[0malert_text\u001b[0m\u001b[1;33m)\u001b[0m\u001b[1;33m\u001b[0m\u001b[1;33m\u001b[0m\u001b[0m\n\u001b[1;32m--> 242\u001b[1;33m         \u001b[1;32mraise\u001b[0m \u001b[0mexception_class\u001b[0m\u001b[1;33m(\u001b[0m\u001b[0mmessage\u001b[0m\u001b[1;33m,\u001b[0m \u001b[0mscreen\u001b[0m\u001b[1;33m,\u001b[0m \u001b[0mstacktrace\u001b[0m\u001b[1;33m)\u001b[0m\u001b[1;33m\u001b[0m\u001b[1;33m\u001b[0m\u001b[0m\n\u001b[0m\u001b[0;32m    243\u001b[0m \u001b[1;33m\u001b[0m\u001b[0m\n\u001b[0;32m    244\u001b[0m     \u001b[1;32mdef\u001b[0m \u001b[0m_value_or_default\u001b[0m\u001b[1;33m(\u001b[0m\u001b[0mself\u001b[0m\u001b[1;33m,\u001b[0m \u001b[0mobj\u001b[0m\u001b[1;33m,\u001b[0m \u001b[0mkey\u001b[0m\u001b[1;33m,\u001b[0m \u001b[0mdefault\u001b[0m\u001b[1;33m)\u001b[0m\u001b[1;33m:\u001b[0m\u001b[1;33m\u001b[0m\u001b[1;33m\u001b[0m\u001b[0m\n",
      "\u001b[1;31mNoSuchElementException\u001b[0m: Message: no such element: Unable to locate element: {\"method\":\"xpath\",\"selector\":\"//div[@class='filtersContainer fleft']/div[3]\"}\n  (Session info: chrome=88.0.4324.150)\n"
     ]
    }
   ],
   "source": [
    "sal_filter=driver.find_element_by_xpath(\"//div[@class='filtersContainer fleft']/div[3]\")\n",
    "sal_filter.click()"
   ]
  },
  {
   "cell_type": "markdown",
   "metadata": {},
   "source": [
    "unable to find the xpath for filter in salary column."
   ]
  },
  {
   "cell_type": "code",
   "execution_count": 42,
   "metadata": {},
   "outputs": [],
   "source": [
    "url='https://www.naukri.com/data-scientist-jobs?k=data%20scientist&cityType=25.9.31&ctcFilter=6to10'"
   ]
  },
  {
   "cell_type": "code",
   "execution_count": 43,
   "metadata": {},
   "outputs": [],
   "source": [
    "driver.get(url)"
   ]
  },
  {
   "cell_type": "code",
   "execution_count": 44,
   "metadata": {},
   "outputs": [],
   "source": [
    "job_title=[]\n",
    "company_name=[]\n",
    "job_location=[]\n",
    "experience_list=[]"
   ]
  },
  {
   "cell_type": "code",
   "execution_count": 45,
   "metadata": {},
   "outputs": [
    {
     "data": {
      "text/plain": [
       "[<selenium.webdriver.remote.webelement.WebElement (session=\"9d0c71efef16ac4fcf7700232ca1cb8a\", element=\"956af4a1-f528-4208-b320-5dc7e3d10eb0\")>,\n",
       " <selenium.webdriver.remote.webelement.WebElement (session=\"9d0c71efef16ac4fcf7700232ca1cb8a\", element=\"2e7f27c5-3410-439e-98f4-36efeae63298\")>,\n",
       " <selenium.webdriver.remote.webelement.WebElement (session=\"9d0c71efef16ac4fcf7700232ca1cb8a\", element=\"7847615a-f2eb-48ea-b989-33873a89965d\")>,\n",
       " <selenium.webdriver.remote.webelement.WebElement (session=\"9d0c71efef16ac4fcf7700232ca1cb8a\", element=\"6cc6c516-6a76-4e0a-8ee5-ad5ee62cd276\")>,\n",
       " <selenium.webdriver.remote.webelement.WebElement (session=\"9d0c71efef16ac4fcf7700232ca1cb8a\", element=\"0410c2ae-d3e3-481e-8f07-ce105f4efcb6\")>,\n",
       " <selenium.webdriver.remote.webelement.WebElement (session=\"9d0c71efef16ac4fcf7700232ca1cb8a\", element=\"b31c6eff-8931-4604-a4eb-8bd2b3c1780b\")>,\n",
       " <selenium.webdriver.remote.webelement.WebElement (session=\"9d0c71efef16ac4fcf7700232ca1cb8a\", element=\"d3e7e6d0-ce96-4246-88e4-a991b0056e58\")>,\n",
       " <selenium.webdriver.remote.webelement.WebElement (session=\"9d0c71efef16ac4fcf7700232ca1cb8a\", element=\"ac6b6fc4-15e0-41a8-9815-f2baae0f7a15\")>,\n",
       " <selenium.webdriver.remote.webelement.WebElement (session=\"9d0c71efef16ac4fcf7700232ca1cb8a\", element=\"1e1e3e4e-0b5a-4326-b7cf-2d48e2e39499\")>,\n",
       " <selenium.webdriver.remote.webelement.WebElement (session=\"9d0c71efef16ac4fcf7700232ca1cb8a\", element=\"025a53c5-3381-484b-b62f-4051885cb628\")>]"
      ]
     },
     "execution_count": 45,
     "metadata": {},
     "output_type": "execute_result"
    }
   ],
   "source": [
    "t_tags=driver.find_elements_by_xpath(\"//a[@class='title fw500 ellipsis']\")\n",
    "t_tags[0:10]"
   ]
  },
  {
   "cell_type": "code",
   "execution_count": 46,
   "metadata": {},
   "outputs": [
    {
     "name": "stdout",
     "output_type": "stream",
     "text": [
      "['Data Scientist/Analyst - Machine Learning/Deep Learning', 'Senior Data Scientist | CES IT LTD | CMMI Level 5', 'Data Scientist - Machine Learning/Statistical Modeling', 'Associate Data Scientist | 0-2 Years | Gurgaon', 'Data Scientist', 'Data Scientist', 'Data Scientist', 'Data Scientist - Machine Learning & Statistical Analysis - R/ Python', 'Founding Member & Principal Data Scientist', 'Data Scientist']\n"
     ]
    }
   ],
   "source": [
    "for i in t_tags:\n",
    "    title=i.text\n",
    "    job_title.append(title)\n",
    "print(job_title[0:10])"
   ]
  },
  {
   "cell_type": "code",
   "execution_count": 47,
   "metadata": {},
   "outputs": [],
   "source": [
    "c_tags=driver.find_elements_by_xpath(\"//a[@class='subTitle ellipsis fleft']\")"
   ]
  },
  {
   "cell_type": "code",
   "execution_count": 48,
   "metadata": {},
   "outputs": [
    {
     "name": "stdout",
     "output_type": "stream",
     "text": [
      "['EchoIndia', 'CES Ltd.', 'Lericon Informatics Pvt. Ltd.', 'Xtage Technologies Private Limited', 'Mailkit Private Limited', 'Country Veggie', 'IBM India Pvt. Limited', 'Talent Stock Solutions', 'Benovymed Healthcare', 'Amantya Technologies']\n"
     ]
    }
   ],
   "source": [
    "for i in c_tags:\n",
    "    c_name=i.text\n",
    "    company_name.append(c_name)\n",
    "print(company_name[0:10])"
   ]
  },
  {
   "cell_type": "code",
   "execution_count": 49,
   "metadata": {},
   "outputs": [
    {
     "data": {
      "text/plain": [
       "[<selenium.webdriver.remote.webelement.WebElement (session=\"9d0c71efef16ac4fcf7700232ca1cb8a\", element=\"c146500e-7954-4dfb-a767-03c9c38dc6c6\")>,\n",
       " <selenium.webdriver.remote.webelement.WebElement (session=\"9d0c71efef16ac4fcf7700232ca1cb8a\", element=\"5bc29c77-2029-47b3-a94e-3ecba7e1196c\")>,\n",
       " <selenium.webdriver.remote.webelement.WebElement (session=\"9d0c71efef16ac4fcf7700232ca1cb8a\", element=\"eb8f804c-8624-4f79-bad9-06cccc8dd9ea\")>,\n",
       " <selenium.webdriver.remote.webelement.WebElement (session=\"9d0c71efef16ac4fcf7700232ca1cb8a\", element=\"e87d1b55-765d-458f-a7ae-cfdca0582cab\")>,\n",
       " <selenium.webdriver.remote.webelement.WebElement (session=\"9d0c71efef16ac4fcf7700232ca1cb8a\", element=\"09640d99-1144-4e10-ba56-c46167ec960b\")>,\n",
       " <selenium.webdriver.remote.webelement.WebElement (session=\"9d0c71efef16ac4fcf7700232ca1cb8a\", element=\"f0960fd3-df05-4698-9990-5cad77444abe\")>,\n",
       " <selenium.webdriver.remote.webelement.WebElement (session=\"9d0c71efef16ac4fcf7700232ca1cb8a\", element=\"5b222d66-36a4-4ad5-a876-768aa101a4da\")>,\n",
       " <selenium.webdriver.remote.webelement.WebElement (session=\"9d0c71efef16ac4fcf7700232ca1cb8a\", element=\"c9b2899e-456a-4e6e-9ebf-4698b114b659\")>,\n",
       " <selenium.webdriver.remote.webelement.WebElement (session=\"9d0c71efef16ac4fcf7700232ca1cb8a\", element=\"0fc9f3e3-e472-4ef5-9533-a40767571add\")>,\n",
       " <selenium.webdriver.remote.webelement.WebElement (session=\"9d0c71efef16ac4fcf7700232ca1cb8a\", element=\"6f69738a-edd1-4bf8-a0c6-dcfc379cab6a\")>]"
      ]
     },
     "execution_count": 49,
     "metadata": {},
     "output_type": "execute_result"
    }
   ],
   "source": [
    "l_tags=driver.find_elements_by_xpath(\"//li[@class='fleft grey-text br2 placeHolderLi location']/span[1]\")\n",
    "l_tags[0:10]"
   ]
  },
  {
   "cell_type": "code",
   "execution_count": 50,
   "metadata": {},
   "outputs": [
    {
     "name": "stdout",
     "output_type": "stream",
     "text": [
      "['Delhi', 'Chennai, Pune, Delhi NCR, Mumbai, Bengaluru, Hyderabad, Kolkata', 'Delhi/NCR Delhi NCR', 'Delhi NCR, Gurgaon', 'Chennai, Bhubaneshwar, Pune, Delhi NCR, Mumbai, Bengaluru, Greater Noida, Hyderabad, Kolkata', 'Ghaziabad, Bhopal, Lucknow, Kanpur, Rajkot, Bengaluru, Gurgaon, Agra, Bharuch, Jaunpur, Nagpur, Delhi, Mumbai, Jaipur, Jhansi', 'Gurgaon Gurugram', 'Delhi', 'Gurgaon Gurugram', 'Gurgaon']\n"
     ]
    }
   ],
   "source": [
    "for i in l_tags:\n",
    "    location=i.text\n",
    "    job_location.append(location)\n",
    "print(job_location[0:10])"
   ]
  },
  {
   "cell_type": "code",
   "execution_count": 51,
   "metadata": {},
   "outputs": [
    {
     "data": {
      "text/plain": [
       "[<selenium.webdriver.remote.webelement.WebElement (session=\"9d0c71efef16ac4fcf7700232ca1cb8a\", element=\"c5d73450-398c-4287-b3d7-fa76b4b1fada\")>,\n",
       " <selenium.webdriver.remote.webelement.WebElement (session=\"9d0c71efef16ac4fcf7700232ca1cb8a\", element=\"b99640b0-75b7-48b7-9bce-1a4aca374fbf\")>,\n",
       " <selenium.webdriver.remote.webelement.WebElement (session=\"9d0c71efef16ac4fcf7700232ca1cb8a\", element=\"d3c86077-c1f2-49bc-b1f3-4539f5bf70f2\")>,\n",
       " <selenium.webdriver.remote.webelement.WebElement (session=\"9d0c71efef16ac4fcf7700232ca1cb8a\", element=\"dce81912-920f-462a-bce6-faa25edd4557\")>,\n",
       " <selenium.webdriver.remote.webelement.WebElement (session=\"9d0c71efef16ac4fcf7700232ca1cb8a\", element=\"d8776b8a-ba47-48ba-afca-bb17d032cf54\")>,\n",
       " <selenium.webdriver.remote.webelement.WebElement (session=\"9d0c71efef16ac4fcf7700232ca1cb8a\", element=\"ce42a31c-6e7d-45a5-94f6-4718e3db3a34\")>,\n",
       " <selenium.webdriver.remote.webelement.WebElement (session=\"9d0c71efef16ac4fcf7700232ca1cb8a\", element=\"60e66c97-4228-4269-826f-b840b0436e90\")>,\n",
       " <selenium.webdriver.remote.webelement.WebElement (session=\"9d0c71efef16ac4fcf7700232ca1cb8a\", element=\"f6f968d5-1be3-4971-ac3b-e8b9449dad37\")>,\n",
       " <selenium.webdriver.remote.webelement.WebElement (session=\"9d0c71efef16ac4fcf7700232ca1cb8a\", element=\"4d0a5ab5-2a2c-4950-9d9f-a7cc9636928b\")>,\n",
       " <selenium.webdriver.remote.webelement.WebElement (session=\"9d0c71efef16ac4fcf7700232ca1cb8a\", element=\"bcb4c48a-91b8-453e-b139-bae7b0813682\")>]"
      ]
     },
     "execution_count": 51,
     "metadata": {},
     "output_type": "execute_result"
    }
   ],
   "source": [
    "ex_tags=driver.find_elements_by_xpath(\"//li[@class='fleft grey-text br2 placeHolderLi experience']/span[1]\")\n",
    "ex_tags[0:10]"
   ]
  },
  {
   "cell_type": "code",
   "execution_count": 53,
   "metadata": {},
   "outputs": [
    {
     "name": "stdout",
     "output_type": "stream",
     "text": [
      "['3-6 Yrs', '2-7 Yrs', '5-8 Yrs', '0-2 Yrs', '4-9 Yrs', '1-3 Yrs', '6-8 Yrs', '2-5 Yrs', '3-7 Yrs', '4-10 Yrs']\n"
     ]
    }
   ],
   "source": [
    "for i in ex_tags:\n",
    "    ex_list=i.text\n",
    "    experience_list.append(ex_list)\n",
    "print(experience_list[0:10])"
   ]
  },
  {
   "cell_type": "code",
   "execution_count": 54,
   "metadata": {},
   "outputs": [
    {
     "data": {
      "text/html": [
       "<div>\n",
       "<style scoped>\n",
       "    .dataframe tbody tr th:only-of-type {\n",
       "        vertical-align: middle;\n",
       "    }\n",
       "\n",
       "    .dataframe tbody tr th {\n",
       "        vertical-align: top;\n",
       "    }\n",
       "\n",
       "    .dataframe thead th {\n",
       "        text-align: right;\n",
       "    }\n",
       "</style>\n",
       "<table border=\"1\" class=\"dataframe\">\n",
       "  <thead>\n",
       "    <tr style=\"text-align: right;\">\n",
       "      <th></th>\n",
       "      <th>job_profile</th>\n",
       "      <th>experience_required</th>\n",
       "      <th>job_location</th>\n",
       "      <th>company_name</th>\n",
       "    </tr>\n",
       "  </thead>\n",
       "  <tbody>\n",
       "    <tr>\n",
       "      <th>0</th>\n",
       "      <td>Data Scientist/Analyst - Machine Learning/Deep...</td>\n",
       "      <td>3-6 Yrs</td>\n",
       "      <td>Delhi</td>\n",
       "      <td>EchoIndia</td>\n",
       "    </tr>\n",
       "    <tr>\n",
       "      <th>1</th>\n",
       "      <td>Senior Data Scientist | CES IT LTD | CMMI Level 5</td>\n",
       "      <td>2-7 Yrs</td>\n",
       "      <td>Chennai, Pune, Delhi NCR, Mumbai, Bengaluru, H...</td>\n",
       "      <td>CES Ltd.</td>\n",
       "    </tr>\n",
       "    <tr>\n",
       "      <th>2</th>\n",
       "      <td>Data Scientist - Machine Learning/Statistical ...</td>\n",
       "      <td>5-8 Yrs</td>\n",
       "      <td>Delhi/NCR Delhi NCR</td>\n",
       "      <td>Lericon Informatics Pvt. Ltd.</td>\n",
       "    </tr>\n",
       "    <tr>\n",
       "      <th>3</th>\n",
       "      <td>Associate Data Scientist | 0-2 Years | Gurgaon</td>\n",
       "      <td>0-2 Yrs</td>\n",
       "      <td>Delhi NCR, Gurgaon</td>\n",
       "      <td>Xtage Technologies Private Limited</td>\n",
       "    </tr>\n",
       "    <tr>\n",
       "      <th>4</th>\n",
       "      <td>Data Scientist</td>\n",
       "      <td>4-9 Yrs</td>\n",
       "      <td>Chennai, Bhubaneshwar, Pune, Delhi NCR, Mumbai...</td>\n",
       "      <td>Mailkit Private Limited</td>\n",
       "    </tr>\n",
       "    <tr>\n",
       "      <th>5</th>\n",
       "      <td>Data Scientist</td>\n",
       "      <td>1-3 Yrs</td>\n",
       "      <td>Ghaziabad, Bhopal, Lucknow, Kanpur, Rajkot, Be...</td>\n",
       "      <td>Country Veggie</td>\n",
       "    </tr>\n",
       "    <tr>\n",
       "      <th>6</th>\n",
       "      <td>Data Scientist</td>\n",
       "      <td>6-8 Yrs</td>\n",
       "      <td>Gurgaon Gurugram</td>\n",
       "      <td>IBM India Pvt. Limited</td>\n",
       "    </tr>\n",
       "    <tr>\n",
       "      <th>7</th>\n",
       "      <td>Data Scientist - Machine Learning &amp; Statistica...</td>\n",
       "      <td>2-5 Yrs</td>\n",
       "      <td>Delhi</td>\n",
       "      <td>Talent Stock Solutions</td>\n",
       "    </tr>\n",
       "    <tr>\n",
       "      <th>8</th>\n",
       "      <td>Founding Member &amp; Principal Data Scientist</td>\n",
       "      <td>3-7 Yrs</td>\n",
       "      <td>Gurgaon Gurugram</td>\n",
       "      <td>Benovymed Healthcare</td>\n",
       "    </tr>\n",
       "    <tr>\n",
       "      <th>9</th>\n",
       "      <td>Data Scientist</td>\n",
       "      <td>4-10 Yrs</td>\n",
       "      <td>Gurgaon</td>\n",
       "      <td>Amantya Technologies</td>\n",
       "    </tr>\n",
       "  </tbody>\n",
       "</table>\n",
       "</div>"
      ],
      "text/plain": [
       "                                         job_profile experience_required  \\\n",
       "0  Data Scientist/Analyst - Machine Learning/Deep...             3-6 Yrs   \n",
       "1  Senior Data Scientist | CES IT LTD | CMMI Level 5             2-7 Yrs   \n",
       "2  Data Scientist - Machine Learning/Statistical ...             5-8 Yrs   \n",
       "3     Associate Data Scientist | 0-2 Years | Gurgaon             0-2 Yrs   \n",
       "4                                     Data Scientist             4-9 Yrs   \n",
       "5                                     Data Scientist             1-3 Yrs   \n",
       "6                                     Data Scientist             6-8 Yrs   \n",
       "7  Data Scientist - Machine Learning & Statistica...             2-5 Yrs   \n",
       "8         Founding Member & Principal Data Scientist             3-7 Yrs   \n",
       "9                                     Data Scientist            4-10 Yrs   \n",
       "\n",
       "                                        job_location  \\\n",
       "0                                              Delhi   \n",
       "1  Chennai, Pune, Delhi NCR, Mumbai, Bengaluru, H...   \n",
       "2                                Delhi/NCR Delhi NCR   \n",
       "3                                 Delhi NCR, Gurgaon   \n",
       "4  Chennai, Bhubaneshwar, Pune, Delhi NCR, Mumbai...   \n",
       "5  Ghaziabad, Bhopal, Lucknow, Kanpur, Rajkot, Be...   \n",
       "6                                   Gurgaon Gurugram   \n",
       "7                                              Delhi   \n",
       "8                                   Gurgaon Gurugram   \n",
       "9                                            Gurgaon   \n",
       "\n",
       "                         company_name  \n",
       "0                           EchoIndia  \n",
       "1                            CES Ltd.  \n",
       "2       Lericon Informatics Pvt. Ltd.  \n",
       "3  Xtage Technologies Private Limited  \n",
       "4             Mailkit Private Limited  \n",
       "5                      Country Veggie  \n",
       "6              IBM India Pvt. Limited  \n",
       "7              Talent Stock Solutions  \n",
       "8                Benovymed Healthcare  \n",
       "9                Amantya Technologies  "
      ]
     },
     "execution_count": 54,
     "metadata": {},
     "output_type": "execute_result"
    }
   ],
   "source": [
    "job_details=pd.DataFrame({})\n",
    "job_details['job_profile']=job_title[0:10]\n",
    "job_details['experience_required']=experience_list[0:10]\n",
    "job_details['job_location']=job_location[0:10]\n",
    "job_details['company_name']=company_name[0:10]\n",
    "job_details"
   ]
  },
  {
   "cell_type": "code",
   "execution_count": 55,
   "metadata": {},
   "outputs": [],
   "source": [
    "job_details.to_csv('answer3',index=False)"
   ]
  },
  {
   "cell_type": "markdown",
   "metadata": {},
   "source": [
    "# question 4 of assignment 2"
   ]
  },
  {
   "cell_type": "code",
   "execution_count": 96,
   "metadata": {},
   "outputs": [],
   "source": [
    "driver2 = webdriver.Chrome(executable_path='C:/chromedriver/chromedriver.exe')"
   ]
  },
  {
   "cell_type": "code",
   "execution_count": 97,
   "metadata": {},
   "outputs": [],
   "source": [
    "driver2.get('https://www.glassdoor.co.in/index.htm')"
   ]
  },
  {
   "cell_type": "code",
   "execution_count": 101,
   "metadata": {},
   "outputs": [],
   "source": [
    "job_search1=driver2.find_element_by_id('sc.keyword')\n",
    "job_search1.send_keys('Data Scientist')\n",
    "loc_search1=driver2.find_element_by_id('sc.location')\n",
    "loc_search1.send_keys('Noida')"
   ]
  },
  {
   "cell_type": "code",
   "execution_count": 102,
   "metadata": {},
   "outputs": [],
   "source": [
    "search_btn1=driver2.find_element_by_xpath(\"//button[@class='gd-ui-button ml-std col-auto SearchStyles__newSearchButton css-iixdfr']/span\")\n",
    "search_btn1.click()"
   ]
  },
  {
   "cell_type": "code",
   "execution_count": 103,
   "metadata": {},
   "outputs": [],
   "source": [
    "company_names=[]\n",
    "ratings=[]\n",
    "no_of_days_ago_posted=[]"
   ]
  },
  {
   "cell_type": "code",
   "execution_count": 104,
   "metadata": {},
   "outputs": [
    {
     "data": {
      "text/plain": [
       "[<selenium.webdriver.remote.webelement.WebElement (session=\"5c6769b5d0ae796487b5fde7e2981fdd\", element=\"dc49c20a-4b0c-4db5-a137-e2a4f0a65180\")>,\n",
       " <selenium.webdriver.remote.webelement.WebElement (session=\"5c6769b5d0ae796487b5fde7e2981fdd\", element=\"ee5caf97-5cee-4cd1-b287-7bacc388574d\")>,\n",
       " <selenium.webdriver.remote.webelement.WebElement (session=\"5c6769b5d0ae796487b5fde7e2981fdd\", element=\"b3714337-9d5a-40a8-9b41-53f945d7d664\")>,\n",
       " <selenium.webdriver.remote.webelement.WebElement (session=\"5c6769b5d0ae796487b5fde7e2981fdd\", element=\"a4b0d87b-5648-492a-8e40-842cd8c140f0\")>,\n",
       " <selenium.webdriver.remote.webelement.WebElement (session=\"5c6769b5d0ae796487b5fde7e2981fdd\", element=\"28e0ddc1-e314-43b9-89ed-d4b237446d20\")>,\n",
       " <selenium.webdriver.remote.webelement.WebElement (session=\"5c6769b5d0ae796487b5fde7e2981fdd\", element=\"d9635c3a-51af-458f-bd33-de27c1eed04f\")>,\n",
       " <selenium.webdriver.remote.webelement.WebElement (session=\"5c6769b5d0ae796487b5fde7e2981fdd\", element=\"eab1108e-fed4-4c8b-8337-36ceb4d6a210\")>,\n",
       " <selenium.webdriver.remote.webelement.WebElement (session=\"5c6769b5d0ae796487b5fde7e2981fdd\", element=\"6499d97b-6d72-43de-a557-92a670e5758f\")>,\n",
       " <selenium.webdriver.remote.webelement.WebElement (session=\"5c6769b5d0ae796487b5fde7e2981fdd\", element=\"c756b740-acc2-4a75-bc16-8fa21d80ca4e\")>,\n",
       " <selenium.webdriver.remote.webelement.WebElement (session=\"5c6769b5d0ae796487b5fde7e2981fdd\", element=\"e2b58a55-05dc-4ebf-a658-7128243b2d9e\")>]"
      ]
     },
     "execution_count": 104,
     "metadata": {},
     "output_type": "execute_result"
    }
   ],
   "source": [
    "co_tags=driver2.find_elements_by_xpath(\"//div[@class='d-flex justify-content-between align-items-start']/a\")\n",
    "co_tags[0:10]"
   ]
  },
  {
   "cell_type": "code",
   "execution_count": 105,
   "metadata": {},
   "outputs": [
    {
     "name": "stdout",
     "output_type": "stream",
     "text": [
      "['BlackRock', 'BlackRock', 'Srijan Technologies Pvt Ltd', 'Brickred', 'Lumiq', 'Terra Economics & Analytics Lab (TEAL)', 'Fitfyles', 'Microsoft', 'Biz2Credit Inc', 'Techlive', 'Mahajan Imaging', 'Axslogic', 'abc consultants', 'Great Learning', 'Healtheoz India', 'WishFin', 'Priority Vendor', 'Diverse Lynx India', 'xtLytics', 'Ciena', 'SearchUrCollege', 'Gauge Data Solutions', 'Jubna', 'Profisor Services', 'American Express Global Business Travel', 'Salasar New Age Technologies', 'Ank Aha', 'NCR', 'Emerging India Group', 'Saffron Consultancy Services', 'Analytics Vidhya', 'ESRI, Inc.']\n"
     ]
    }
   ],
   "source": [
    "for i in co_tags:\n",
    "    comp=i.text\n",
    "    company_names.append(comp)\n",
    "print(company_names)"
   ]
  },
  {
   "cell_type": "code",
   "execution_count": 115,
   "metadata": {},
   "outputs": [
    {
     "data": {
      "text/plain": [
       "[<selenium.webdriver.remote.webelement.WebElement (session=\"5c6769b5d0ae796487b5fde7e2981fdd\", element=\"6fa267b1-3d3e-4bdc-887b-1f237fa07221\")>,\n",
       " <selenium.webdriver.remote.webelement.WebElement (session=\"5c6769b5d0ae796487b5fde7e2981fdd\", element=\"25f91e9b-3b27-4944-ae40-593f45a21a5c\")>,\n",
       " <selenium.webdriver.remote.webelement.WebElement (session=\"5c6769b5d0ae796487b5fde7e2981fdd\", element=\"22049fe7-e8ae-4273-ae83-7f0ca693602f\")>,\n",
       " <selenium.webdriver.remote.webelement.WebElement (session=\"5c6769b5d0ae796487b5fde7e2981fdd\", element=\"e2386395-ec6e-4b59-b860-3136956e691f\")>,\n",
       " <selenium.webdriver.remote.webelement.WebElement (session=\"5c6769b5d0ae796487b5fde7e2981fdd\", element=\"d661b09c-035c-4b52-94cb-64a36f654941\")>,\n",
       " <selenium.webdriver.remote.webelement.WebElement (session=\"5c6769b5d0ae796487b5fde7e2981fdd\", element=\"fb0cd646-b7e1-44a3-bb7f-7b97ef56bb8f\")>,\n",
       " <selenium.webdriver.remote.webelement.WebElement (session=\"5c6769b5d0ae796487b5fde7e2981fdd\", element=\"44f6f7dc-ff83-4e82-a663-de4e00823ae5\")>,\n",
       " <selenium.webdriver.remote.webelement.WebElement (session=\"5c6769b5d0ae796487b5fde7e2981fdd\", element=\"1eb53ca0-57ca-4ca6-badb-6dec69b87088\")>,\n",
       " <selenium.webdriver.remote.webelement.WebElement (session=\"5c6769b5d0ae796487b5fde7e2981fdd\", element=\"8081ab54-d013-4398-93a1-a91bc2957dd2\")>,\n",
       " <selenium.webdriver.remote.webelement.WebElement (session=\"5c6769b5d0ae796487b5fde7e2981fdd\", element=\"8b541c5d-8001-4029-bbfd-4eff2f9eea58\")>]"
      ]
     },
     "execution_count": 115,
     "metadata": {},
     "output_type": "execute_result"
    }
   ],
   "source": [
    "r_tags=driver2.find_elements_by_xpath(\"//div[@class='d-flex flex-column css-x75kgh e1rrn5ka3']/span\")\n",
    "r_tags[0:10]"
   ]
  },
  {
   "cell_type": "code",
   "execution_count": 119,
   "metadata": {},
   "outputs": [
    {
     "name": "stdout",
     "output_type": "stream",
     "text": [
      "['4.1', '4.1', '3.9', '3.9', '', '', '', '', '', '', '', '', '', '', '', '', '', '', '', '', '', '', '', '', '', '', '4.1', '4.1', '3.9', '3.9', '3.6', '4.9', '4.4', '3.7', '5.0', '4.0', '4.3', '4.1', '4.1', '4.8', '4.0', '3.7', '3.4', '3.0', '4.3', '3.1', '4.5', '3.8', '4.1', '3.6', '4.1', '3.9', '4.1', '4.1', '3.9', '3.9', '3.6', '4.9', '4.4', '3.7', '5.0', '4.0', '4.3', '4.1', '4.1', '4.8', '4.0', '3.7', '3.4', '3.0', '4.3', '3.1', '4.5', '3.8', '4.1', '3.6', '4.1', '3.9', '4.1', '4.1', '3.9', '3.9', '3.6', '4.9', '4.4', '3.7', '5.0', '4.0', '4.3', '4.1', '4.1', '4.8', '4.0', '3.7', '3.4', '3.0', '4.3', '3.1', '4.5', '3.8', '4.1', '3.6', '4.1', '3.9', '4.1', '4.1', '3.9', '3.9', '3.6', '4.9', '4.4', '3.7', '5.0', '4.0', '4.3', '4.1', '4.1', '4.8', '4.0', '3.7', '3.4', '3.0', '4.3', '3.1', '4.5', '3.8', '4.1', '3.6', '4.1', '3.9']\n"
     ]
    }
   ],
   "source": [
    "for i in r_tags:\n",
    "    rating=i.text\n",
    "    ratings.append(rating)\n",
    "print(ratings)"
   ]
  },
  {
   "cell_type": "code",
   "execution_count": 117,
   "metadata": {},
   "outputs": [
    {
     "data": {
      "text/plain": [
       "[<selenium.webdriver.remote.webelement.WebElement (session=\"5c6769b5d0ae796487b5fde7e2981fdd\", element=\"0ccaed50-f4ac-4897-9de0-34d876a9a886\")>,\n",
       " <selenium.webdriver.remote.webelement.WebElement (session=\"5c6769b5d0ae796487b5fde7e2981fdd\", element=\"4d84d5db-5295-492b-99b3-b07b4fca07af\")>,\n",
       " <selenium.webdriver.remote.webelement.WebElement (session=\"5c6769b5d0ae796487b5fde7e2981fdd\", element=\"ee70bbf8-ebde-4c83-817d-77bd11709288\")>,\n",
       " <selenium.webdriver.remote.webelement.WebElement (session=\"5c6769b5d0ae796487b5fde7e2981fdd\", element=\"51358189-a24c-4ac0-8bc5-3e9cddd1ee97\")>,\n",
       " <selenium.webdriver.remote.webelement.WebElement (session=\"5c6769b5d0ae796487b5fde7e2981fdd\", element=\"96b1a0e5-4c0b-4d5b-a9b5-e7f5822a5c29\")>,\n",
       " <selenium.webdriver.remote.webelement.WebElement (session=\"5c6769b5d0ae796487b5fde7e2981fdd\", element=\"26e626fa-6cff-47f3-8d05-d2c09d97c64d\")>,\n",
       " <selenium.webdriver.remote.webelement.WebElement (session=\"5c6769b5d0ae796487b5fde7e2981fdd\", element=\"950c568c-43b9-4168-8058-eaab705b6daa\")>,\n",
       " <selenium.webdriver.remote.webelement.WebElement (session=\"5c6769b5d0ae796487b5fde7e2981fdd\", element=\"69b30ce5-0ec9-4099-9311-df302cdafa88\")>,\n",
       " <selenium.webdriver.remote.webelement.WebElement (session=\"5c6769b5d0ae796487b5fde7e2981fdd\", element=\"5ea316e6-763e-460c-a6c5-46879b74b951\")>,\n",
       " <selenium.webdriver.remote.webelement.WebElement (session=\"5c6769b5d0ae796487b5fde7e2981fdd\", element=\"a47d9378-6b17-4bb2-b6b4-cc21220a53c8\")>]"
      ]
     },
     "execution_count": 117,
     "metadata": {},
     "output_type": "execute_result"
    }
   ],
   "source": [
    "d_tags=driver2.find_elements_by_xpath(\"//div[@class='d-flex align-items-end pl-std css-mi55ob']\")\n",
    "d_tags[0:10]"
   ]
  },
  {
   "cell_type": "code",
   "execution_count": 118,
   "metadata": {},
   "outputs": [
    {
     "name": "stdout",
     "output_type": "stream",
     "text": [
      "['1d', '17d', '6d', '20d', '', '', '', '', '', '', '', '', '', '', '', '', '', '', '', '', '', '', '', '', '', '', '', '', '', '', '', '', '1d', '17d', '6d', '20d', '20d', '2d', '1d', '20d', '9d', '7d', '1d', '27d', '1d', '1d', '1d', '12d', '1d', '16d', '15d', '7d', '1d', '1d', '15d', '1d', '7d', '13d', '1d', '15d', '13d', '1d', '1d', '17d']\n"
     ]
    }
   ],
   "source": [
    "for i in d_tags:\n",
    "    days=i.text\n",
    "    no_of_days_ago_posted.append(days)\n",
    "print(no_of_days_ago_posted)"
   ]
  },
  {
   "cell_type": "code",
   "execution_count": 110,
   "metadata": {},
   "outputs": [
    {
     "data": {
      "text/html": [
       "<div>\n",
       "<style scoped>\n",
       "    .dataframe tbody tr th:only-of-type {\n",
       "        vertical-align: middle;\n",
       "    }\n",
       "\n",
       "    .dataframe tbody tr th {\n",
       "        vertical-align: top;\n",
       "    }\n",
       "\n",
       "    .dataframe thead th {\n",
       "        text-align: right;\n",
       "    }\n",
       "</style>\n",
       "<table border=\"1\" class=\"dataframe\">\n",
       "  <thead>\n",
       "    <tr style=\"text-align: right;\">\n",
       "      <th></th>\n",
       "      <th>COMPANY NAME</th>\n",
       "      <th>RATINGS</th>\n",
       "      <th>NO.OF DAYS AGO THE AD IS POSTED</th>\n",
       "    </tr>\n",
       "  </thead>\n",
       "  <tbody>\n",
       "    <tr>\n",
       "      <th>0</th>\n",
       "      <td>BlackRock</td>\n",
       "      <td>4.1</td>\n",
       "      <td>1d</td>\n",
       "    </tr>\n",
       "    <tr>\n",
       "      <th>1</th>\n",
       "      <td>BlackRock</td>\n",
       "      <td>4.1</td>\n",
       "      <td>17d</td>\n",
       "    </tr>\n",
       "    <tr>\n",
       "      <th>2</th>\n",
       "      <td>Srijan Technologies Pvt Ltd</td>\n",
       "      <td>3.9</td>\n",
       "      <td>6d</td>\n",
       "    </tr>\n",
       "    <tr>\n",
       "      <th>3</th>\n",
       "      <td>Brickred</td>\n",
       "      <td>3.9</td>\n",
       "      <td>20d</td>\n",
       "    </tr>\n",
       "    <tr>\n",
       "      <th>4</th>\n",
       "      <td>Lumiq</td>\n",
       "      <td></td>\n",
       "      <td></td>\n",
       "    </tr>\n",
       "    <tr>\n",
       "      <th>5</th>\n",
       "      <td>Terra Economics &amp; Analytics Lab (TEAL)</td>\n",
       "      <td></td>\n",
       "      <td></td>\n",
       "    </tr>\n",
       "    <tr>\n",
       "      <th>6</th>\n",
       "      <td>Fitfyles</td>\n",
       "      <td></td>\n",
       "      <td></td>\n",
       "    </tr>\n",
       "    <tr>\n",
       "      <th>7</th>\n",
       "      <td>Microsoft</td>\n",
       "      <td></td>\n",
       "      <td></td>\n",
       "    </tr>\n",
       "    <tr>\n",
       "      <th>8</th>\n",
       "      <td>Biz2Credit Inc</td>\n",
       "      <td></td>\n",
       "      <td></td>\n",
       "    </tr>\n",
       "    <tr>\n",
       "      <th>9</th>\n",
       "      <td>Techlive</td>\n",
       "      <td></td>\n",
       "      <td></td>\n",
       "    </tr>\n",
       "  </tbody>\n",
       "</table>\n",
       "</div>"
      ],
      "text/plain": [
       "                             COMPANY NAME RATINGS  \\\n",
       "0                               BlackRock     4.1   \n",
       "1                               BlackRock     4.1   \n",
       "2             Srijan Technologies Pvt Ltd     3.9   \n",
       "3                                Brickred     3.9   \n",
       "4                                   Lumiq           \n",
       "5  Terra Economics & Analytics Lab (TEAL)           \n",
       "6                                Fitfyles           \n",
       "7                               Microsoft           \n",
       "8                          Biz2Credit Inc           \n",
       "9                                Techlive           \n",
       "\n",
       "  NO.OF DAYS AGO THE AD IS POSTED  \n",
       "0                              1d  \n",
       "1                             17d  \n",
       "2                              6d  \n",
       "3                             20d  \n",
       "4                                  \n",
       "5                                  \n",
       "6                                  \n",
       "7                                  \n",
       "8                                  \n",
       "9                                  "
      ]
     },
     "execution_count": 110,
     "metadata": {},
     "output_type": "execute_result"
    }
   ],
   "source": [
    "job=pd.DataFrame({})\n",
    "job['COMPANY NAME']=company_names[0:10]\n",
    "job['RATINGS']=ratings[0:10]\n",
    "job['NO.OF DAYS AGO THE AD IS POSTED']=no_of_days_ago_posted[0:10]\n",
    "job"
   ]
  },
  {
   "cell_type": "markdown",
   "metadata": {},
   "source": [
    "i am not able to scarpe the full details out of the website."
   ]
  },
  {
   "cell_type": "code",
   "execution_count": null,
   "metadata": {},
   "outputs": [],
   "source": []
  }
 ],
 "metadata": {
  "kernelspec": {
   "display_name": "Python 3",
   "language": "python",
   "name": "python3"
  },
  "language_info": {
   "codemirror_mode": {
    "name": "ipython",
    "version": 3
   },
   "file_extension": ".py",
   "mimetype": "text/x-python",
   "name": "python",
   "nbconvert_exporter": "python",
   "pygments_lexer": "ipython3",
   "version": "3.8.3"
  }
 },
 "nbformat": 4,
 "nbformat_minor": 4
}
